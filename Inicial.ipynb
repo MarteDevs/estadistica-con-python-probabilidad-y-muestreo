{
  "nbformat": 4,
  "nbformat_minor": 0,
  "metadata": {
    "colab": {
      "provenance": [],
      "toc_visible": true,
      "include_colab_link": true
    },
    "kernelspec": {
      "display_name": "Python 3",
      "language": "python",
      "name": "python3"
    },
    "language_info": {
      "codemirror_mode": {
        "name": "ipython",
        "version": 3
      },
      "file_extension": ".py",
      "mimetype": "text/x-python",
      "name": "python",
      "nbconvert_exporter": "python",
      "pygments_lexer": "ipython3",
      "version": "3.6.5"
    }
  },
  "cells": [
    {
      "cell_type": "markdown",
      "metadata": {
        "id": "view-in-github",
        "colab_type": "text"
      },
      "source": [
        "<a href=\"https://colab.research.google.com/github/MarteDevs/estadistica-con-python-probabilidad-y-muestreo/blob/main/Inicial.ipynb\" target=\"_parent\"><img src=\"https://colab.research.google.com/assets/colab-badge.svg\" alt=\"Open In Colab\"/></a>"
      ]
    },
    {
      "cell_type": "markdown",
      "metadata": {
        "id": "WvMflodMjQKe"
      },
      "source": [
        "***\n",
        "# <font color=green size=10>CURSO DE ESTADÍSTICA - PARTE 2</font>\n",
        "***"
      ]
    },
    {
      "cell_type": "markdown",
      "metadata": {
        "id": "cVgsZ_E3jQKg"
      },
      "source": [
        "# <font color=green>1 CONOCIENDO LOS DATOS</font>\n",
        "***"
      ]
    },
    {
      "cell_type": "markdown",
      "metadata": {
        "id": "TDjqYYNojQKh"
      },
      "source": [
        "## <font color=green>1.1 Dataset del proyecto</font>\n",
        "***"
      ]
    },
    {
      "cell_type": "markdown",
      "metadata": {
        "id": "iN1gIbaKjQKh"
      },
      "source": [
        "### Encuesta Nacional por Muestreo de Hogares - 2015\n",
        "\n",
        "La **Encuesta Nacional por Muestreo de Hogares - ENMH** en Brasil anualmente investiga, de manera permanente, características generales de la población, educación, trabajo, ingresos, vivienda y otras, con frecuencia variables, de acuerdo a las necesidades de información del país, tales como las características de migración, fecundidad, nupcialidad, salud, seguridad alimentaria, entre otros temas. La recopilación de estas estadísticas constituye, durante los 49 años de realización de la investigación, un importante instrumento para la formulación, validación y evaluación de políticas orientadas al desarrollo socioeconómico y la mejora de las condiciones de vida en Brasil."
      ]
    },
    {
      "cell_type": "markdown",
      "metadata": {
        "id": "U6V7br1RjQKi"
      },
      "source": [
        "### Fuente de los Datos\n",
        "\n",
        "Instituto Brasileño de Geografía y Estadística (IBGE) Encuesta Nacional por Muestreo de Hogares(PNAD) en el 2015"
      ]
    },
    {
      "cell_type": "markdown",
      "metadata": {
        "id": "r0Fe_qnzjQKj"
      },
      "source": [
        "### Variables utilizadas\n",
        "\n",
        "> ### Ingresos\n",
        "> ***\n",
        "\n",
        "Ingresos mensuales del trabajo principal para personas de 10 años o más.\n",
        "\n",
        "> ### Edad\n",
        "> ***\n",
        "\n",
        "Edad del residente en años en la fecha de referencia .\n",
        "\n",
        "> ### Altura (elaboración propia)\n",
        "> ***\n",
        "\n",
        "Altura del habitante en metros.\n",
        "\n",
        "> ### UF\n",
        "> ***\n",
        "\n",
        "Unidad Federal\n",
        "\n",
        "|Código|Descripción|\n",
        "|---|---|\n",
        "|11|Rondônia|\n",
        "|12|Acre|\n",
        "|13|Amazonas|\n",
        "|14|Roraima|\n",
        "|15|Pará|\n",
        "|16|Amapá|\n",
        "|17|Tocantins|\n",
        "|21|Maranhão|\n",
        "|22|Piauí|\n",
        "|23|Ceará|\n",
        "|24|Rio Grande do Norte|\n",
        "|25|Paraíba|\n",
        "|26|Pernambuco|\n",
        "|27|Alagoas|\n",
        "|28|Sergipe|\n",
        "|29|Bahia|\n",
        "|31|Minas Gerais|\n",
        "|32|Espírito Santo|\n",
        "|33|Rio de Janeiro|\n",
        "|35|São Paulo|\n",
        "|41|Paraná|\n",
        "|42|Santa Catarina|\n",
        "|43|Rio Grande do Sul|\n",
        "|50|Mato Grosso do Sul|\n",
        "|51|Mato Grosso|\n",
        "|52|Goiás|\n",
        "|53|Distrito Federal|\n",
        "\n",
        "> ### Sexo\n",
        "> ***\n",
        "\n",
        "|Código|Descripción|\n",
        "|---|---|\n",
        "|0|Masculino|\n",
        "|1|Femenino|\n",
        "\n",
        "> ### Años de Estudio\n",
        "> ***\n",
        "\n",
        "|Código|Descripción|\n",
        "|---|---|\n",
        "|1|Sin educación o menos de 1 año|\n",
        "|2|1 año|\n",
        "|3|2 años|\n",
        "|4|3 años|\n",
        "|5|4 años|\n",
        "|6|5 años|\n",
        "|7|6 años|\n",
        "|8|7 años|\n",
        "|9|8 años|\n",
        "|10|9 años|\n",
        "|11|10 años|\n",
        "|12|11 años|\n",
        "|13|12 años|\n",
        "|14|13 años|\n",
        "|15|14 años|\n",
        "|16|15 años o más|\n",
        "|17|No determinado|\n",
        "||No aplica|\n",
        "\n",
        "> ### Color\n",
        "> ***\n",
        "\n",
        "|Código|Descripción|\n",
        "|---|---|\n",
        "|0|Indígena|\n",
        "|2|Blanco|\n",
        "|4|Negro|\n",
        "|6|Amarillo|\n",
        "|8|Pardo|\n",
        "|9|Sin declarar|"
      ]
    },
    {
      "cell_type": "markdown",
      "metadata": {
        "id": "OK1IQH5cX7Gb"
      },
      "source": [
        "#### <font color='red'>Nota</font>\n",
        "***\n",
        "> Se realizaron los siguientes tratamientos sobre los datos originales:\n",
        "> 1. Se eliminaron los registros en los que **Ingreso** no era válido. (999 999 999 999);\n",
        "> 2. Se eliminaron los registros en los que **Ingreso** eran missing;\n",
        "> 3. Solo se consideraron los registros de **Personas de Referencia** de cada hogar (responsable del hogar)."
      ]
    },
    {
      "cell_type": "markdown",
      "metadata": {
        "id": "8Rw70V6ojQKk"
      },
      "source": [
        "### Importando pandas y leyendo el dataset del proyecto\n",
        "\n",
        "https://pandas.pydata.org/"
      ]
    },
    {
      "cell_type": "code",
      "metadata": {
        "id": "8QgOpE-wjQKl"
      },
      "source": [
        "# se debe tener documentado el tratamiento de datos\n",
        "import pandas as pd"
      ],
      "execution_count": 1,
      "outputs": []
    },
    {
      "cell_type": "code",
      "metadata": {
        "id": "ufRZ7TLwjQKo"
      },
      "source": [
        "datos = pd.read_csv('/content/datos.csv', encoding='latin1')"
      ],
      "execution_count": 2,
      "outputs": []
    },
    {
      "cell_type": "code",
      "metadata": {
        "id": "GsC_WhLFjQKq",
        "scrolled": true,
        "colab": {
          "base_uri": "https://localhost:8080/",
          "height": 206
        },
        "outputId": "3cc7c5ec-57c1-486a-9708-34db4e2abc9b"
      },
      "source": [
        "datos.head()"
      ],
      "execution_count": 3,
      "outputs": [
        {
          "output_type": "execute_result",
          "data": {
            "text/plain": [
              "   Ciudad  Sexo  Edad  Color  Años de Estudio  Ingreso    Altura\n",
              "0      11     0    23      8               12      800  1.603808\n",
              "1      11     1    23      2               12     1150  1.739790\n",
              "2      11     1    35      8               15      880  1.760444\n",
              "3      11     0    46      2                6     3500  1.783158\n",
              "4      11     1    47      8                9      150  1.690631"
            ],
            "text/html": [
              "\n",
              "  <div id=\"df-c1f276ae-a1c3-454b-99c1-d92e8d1b80c8\" class=\"colab-df-container\">\n",
              "    <div>\n",
              "<style scoped>\n",
              "    .dataframe tbody tr th:only-of-type {\n",
              "        vertical-align: middle;\n",
              "    }\n",
              "\n",
              "    .dataframe tbody tr th {\n",
              "        vertical-align: top;\n",
              "    }\n",
              "\n",
              "    .dataframe thead th {\n",
              "        text-align: right;\n",
              "    }\n",
              "</style>\n",
              "<table border=\"1\" class=\"dataframe\">\n",
              "  <thead>\n",
              "    <tr style=\"text-align: right;\">\n",
              "      <th></th>\n",
              "      <th>Ciudad</th>\n",
              "      <th>Sexo</th>\n",
              "      <th>Edad</th>\n",
              "      <th>Color</th>\n",
              "      <th>Años de Estudio</th>\n",
              "      <th>Ingreso</th>\n",
              "      <th>Altura</th>\n",
              "    </tr>\n",
              "  </thead>\n",
              "  <tbody>\n",
              "    <tr>\n",
              "      <th>0</th>\n",
              "      <td>11</td>\n",
              "      <td>0</td>\n",
              "      <td>23</td>\n",
              "      <td>8</td>\n",
              "      <td>12</td>\n",
              "      <td>800</td>\n",
              "      <td>1.603808</td>\n",
              "    </tr>\n",
              "    <tr>\n",
              "      <th>1</th>\n",
              "      <td>11</td>\n",
              "      <td>1</td>\n",
              "      <td>23</td>\n",
              "      <td>2</td>\n",
              "      <td>12</td>\n",
              "      <td>1150</td>\n",
              "      <td>1.739790</td>\n",
              "    </tr>\n",
              "    <tr>\n",
              "      <th>2</th>\n",
              "      <td>11</td>\n",
              "      <td>1</td>\n",
              "      <td>35</td>\n",
              "      <td>8</td>\n",
              "      <td>15</td>\n",
              "      <td>880</td>\n",
              "      <td>1.760444</td>\n",
              "    </tr>\n",
              "    <tr>\n",
              "      <th>3</th>\n",
              "      <td>11</td>\n",
              "      <td>0</td>\n",
              "      <td>46</td>\n",
              "      <td>2</td>\n",
              "      <td>6</td>\n",
              "      <td>3500</td>\n",
              "      <td>1.783158</td>\n",
              "    </tr>\n",
              "    <tr>\n",
              "      <th>4</th>\n",
              "      <td>11</td>\n",
              "      <td>1</td>\n",
              "      <td>47</td>\n",
              "      <td>8</td>\n",
              "      <td>9</td>\n",
              "      <td>150</td>\n",
              "      <td>1.690631</td>\n",
              "    </tr>\n",
              "  </tbody>\n",
              "</table>\n",
              "</div>\n",
              "    <div class=\"colab-df-buttons\">\n",
              "\n",
              "  <div class=\"colab-df-container\">\n",
              "    <button class=\"colab-df-convert\" onclick=\"convertToInteractive('df-c1f276ae-a1c3-454b-99c1-d92e8d1b80c8')\"\n",
              "            title=\"Convert this dataframe to an interactive table.\"\n",
              "            style=\"display:none;\">\n",
              "\n",
              "  <svg xmlns=\"http://www.w3.org/2000/svg\" height=\"24px\" viewBox=\"0 -960 960 960\">\n",
              "    <path d=\"M120-120v-720h720v720H120Zm60-500h600v-160H180v160Zm220 220h160v-160H400v160Zm0 220h160v-160H400v160ZM180-400h160v-160H180v160Zm440 0h160v-160H620v160ZM180-180h160v-160H180v160Zm440 0h160v-160H620v160Z\"/>\n",
              "  </svg>\n",
              "    </button>\n",
              "\n",
              "  <style>\n",
              "    .colab-df-container {\n",
              "      display:flex;\n",
              "      gap: 12px;\n",
              "    }\n",
              "\n",
              "    .colab-df-convert {\n",
              "      background-color: #E8F0FE;\n",
              "      border: none;\n",
              "      border-radius: 50%;\n",
              "      cursor: pointer;\n",
              "      display: none;\n",
              "      fill: #1967D2;\n",
              "      height: 32px;\n",
              "      padding: 0 0 0 0;\n",
              "      width: 32px;\n",
              "    }\n",
              "\n",
              "    .colab-df-convert:hover {\n",
              "      background-color: #E2EBFA;\n",
              "      box-shadow: 0px 1px 2px rgba(60, 64, 67, 0.3), 0px 1px 3px 1px rgba(60, 64, 67, 0.15);\n",
              "      fill: #174EA6;\n",
              "    }\n",
              "\n",
              "    .colab-df-buttons div {\n",
              "      margin-bottom: 4px;\n",
              "    }\n",
              "\n",
              "    [theme=dark] .colab-df-convert {\n",
              "      background-color: #3B4455;\n",
              "      fill: #D2E3FC;\n",
              "    }\n",
              "\n",
              "    [theme=dark] .colab-df-convert:hover {\n",
              "      background-color: #434B5C;\n",
              "      box-shadow: 0px 1px 3px 1px rgba(0, 0, 0, 0.15);\n",
              "      filter: drop-shadow(0px 1px 2px rgba(0, 0, 0, 0.3));\n",
              "      fill: #FFFFFF;\n",
              "    }\n",
              "  </style>\n",
              "\n",
              "    <script>\n",
              "      const buttonEl =\n",
              "        document.querySelector('#df-c1f276ae-a1c3-454b-99c1-d92e8d1b80c8 button.colab-df-convert');\n",
              "      buttonEl.style.display =\n",
              "        google.colab.kernel.accessAllowed ? 'block' : 'none';\n",
              "\n",
              "      async function convertToInteractive(key) {\n",
              "        const element = document.querySelector('#df-c1f276ae-a1c3-454b-99c1-d92e8d1b80c8');\n",
              "        const dataTable =\n",
              "          await google.colab.kernel.invokeFunction('convertToInteractive',\n",
              "                                                    [key], {});\n",
              "        if (!dataTable) return;\n",
              "\n",
              "        const docLinkHtml = 'Like what you see? Visit the ' +\n",
              "          '<a target=\"_blank\" href=https://colab.research.google.com/notebooks/data_table.ipynb>data table notebook</a>'\n",
              "          + ' to learn more about interactive tables.';\n",
              "        element.innerHTML = '';\n",
              "        dataTable['output_type'] = 'display_data';\n",
              "        await google.colab.output.renderOutput(dataTable, element);\n",
              "        const docLink = document.createElement('div');\n",
              "        docLink.innerHTML = docLinkHtml;\n",
              "        element.appendChild(docLink);\n",
              "      }\n",
              "    </script>\n",
              "  </div>\n",
              "\n",
              "\n",
              "    <div id=\"df-2bbf06df-1452-41ce-99a5-8352d3972784\">\n",
              "      <button class=\"colab-df-quickchart\" onclick=\"quickchart('df-2bbf06df-1452-41ce-99a5-8352d3972784')\"\n",
              "                title=\"Suggest charts\"\n",
              "                style=\"display:none;\">\n",
              "\n",
              "<svg xmlns=\"http://www.w3.org/2000/svg\" height=\"24px\"viewBox=\"0 0 24 24\"\n",
              "     width=\"24px\">\n",
              "    <g>\n",
              "        <path d=\"M19 3H5c-1.1 0-2 .9-2 2v14c0 1.1.9 2 2 2h14c1.1 0 2-.9 2-2V5c0-1.1-.9-2-2-2zM9 17H7v-7h2v7zm4 0h-2V7h2v10zm4 0h-2v-4h2v4z\"/>\n",
              "    </g>\n",
              "</svg>\n",
              "      </button>\n",
              "\n",
              "<style>\n",
              "  .colab-df-quickchart {\n",
              "      --bg-color: #E8F0FE;\n",
              "      --fill-color: #1967D2;\n",
              "      --hover-bg-color: #E2EBFA;\n",
              "      --hover-fill-color: #174EA6;\n",
              "      --disabled-fill-color: #AAA;\n",
              "      --disabled-bg-color: #DDD;\n",
              "  }\n",
              "\n",
              "  [theme=dark] .colab-df-quickchart {\n",
              "      --bg-color: #3B4455;\n",
              "      --fill-color: #D2E3FC;\n",
              "      --hover-bg-color: #434B5C;\n",
              "      --hover-fill-color: #FFFFFF;\n",
              "      --disabled-bg-color: #3B4455;\n",
              "      --disabled-fill-color: #666;\n",
              "  }\n",
              "\n",
              "  .colab-df-quickchart {\n",
              "    background-color: var(--bg-color);\n",
              "    border: none;\n",
              "    border-radius: 50%;\n",
              "    cursor: pointer;\n",
              "    display: none;\n",
              "    fill: var(--fill-color);\n",
              "    height: 32px;\n",
              "    padding: 0;\n",
              "    width: 32px;\n",
              "  }\n",
              "\n",
              "  .colab-df-quickchart:hover {\n",
              "    background-color: var(--hover-bg-color);\n",
              "    box-shadow: 0 1px 2px rgba(60, 64, 67, 0.3), 0 1px 3px 1px rgba(60, 64, 67, 0.15);\n",
              "    fill: var(--button-hover-fill-color);\n",
              "  }\n",
              "\n",
              "  .colab-df-quickchart-complete:disabled,\n",
              "  .colab-df-quickchart-complete:disabled:hover {\n",
              "    background-color: var(--disabled-bg-color);\n",
              "    fill: var(--disabled-fill-color);\n",
              "    box-shadow: none;\n",
              "  }\n",
              "\n",
              "  .colab-df-spinner {\n",
              "    border: 2px solid var(--fill-color);\n",
              "    border-color: transparent;\n",
              "    border-bottom-color: var(--fill-color);\n",
              "    animation:\n",
              "      spin 1s steps(1) infinite;\n",
              "  }\n",
              "\n",
              "  @keyframes spin {\n",
              "    0% {\n",
              "      border-color: transparent;\n",
              "      border-bottom-color: var(--fill-color);\n",
              "      border-left-color: var(--fill-color);\n",
              "    }\n",
              "    20% {\n",
              "      border-color: transparent;\n",
              "      border-left-color: var(--fill-color);\n",
              "      border-top-color: var(--fill-color);\n",
              "    }\n",
              "    30% {\n",
              "      border-color: transparent;\n",
              "      border-left-color: var(--fill-color);\n",
              "      border-top-color: var(--fill-color);\n",
              "      border-right-color: var(--fill-color);\n",
              "    }\n",
              "    40% {\n",
              "      border-color: transparent;\n",
              "      border-right-color: var(--fill-color);\n",
              "      border-top-color: var(--fill-color);\n",
              "    }\n",
              "    60% {\n",
              "      border-color: transparent;\n",
              "      border-right-color: var(--fill-color);\n",
              "    }\n",
              "    80% {\n",
              "      border-color: transparent;\n",
              "      border-right-color: var(--fill-color);\n",
              "      border-bottom-color: var(--fill-color);\n",
              "    }\n",
              "    90% {\n",
              "      border-color: transparent;\n",
              "      border-bottom-color: var(--fill-color);\n",
              "    }\n",
              "  }\n",
              "</style>\n",
              "\n",
              "      <script>\n",
              "        async function quickchart(key) {\n",
              "          const quickchartButtonEl =\n",
              "            document.querySelector('#' + key + ' button');\n",
              "          quickchartButtonEl.disabled = true;  // To prevent multiple clicks.\n",
              "          quickchartButtonEl.classList.add('colab-df-spinner');\n",
              "          try {\n",
              "            const charts = await google.colab.kernel.invokeFunction(\n",
              "                'suggestCharts', [key], {});\n",
              "          } catch (error) {\n",
              "            console.error('Error during call to suggestCharts:', error);\n",
              "          }\n",
              "          quickchartButtonEl.classList.remove('colab-df-spinner');\n",
              "          quickchartButtonEl.classList.add('colab-df-quickchart-complete');\n",
              "        }\n",
              "        (() => {\n",
              "          let quickchartButtonEl =\n",
              "            document.querySelector('#df-2bbf06df-1452-41ce-99a5-8352d3972784 button');\n",
              "          quickchartButtonEl.style.display =\n",
              "            google.colab.kernel.accessAllowed ? 'block' : 'none';\n",
              "        })();\n",
              "      </script>\n",
              "    </div>\n",
              "\n",
              "    </div>\n",
              "  </div>\n"
            ],
            "application/vnd.google.colaboratory.intrinsic+json": {
              "type": "dataframe",
              "variable_name": "datos",
              "summary": "{\n  \"name\": \"datos\",\n  \"rows\": 76840,\n  \"fields\": [\n    {\n      \"column\": \"Ciudad\",\n      \"properties\": {\n        \"dtype\": \"number\",\n        \"std\": 11,\n        \"min\": 11,\n        \"max\": 53,\n        \"num_unique_values\": 27,\n        \"samples\": [\n          22,\n          27,\n          23\n        ],\n        \"semantic_type\": \"\",\n        \"description\": \"\"\n      }\n    },\n    {\n      \"column\": \"Sexo\",\n      \"properties\": {\n        \"dtype\": \"number\",\n        \"std\": 0,\n        \"min\": 0,\n        \"max\": 1,\n        \"num_unique_values\": 2,\n        \"samples\": [\n          1,\n          0\n        ],\n        \"semantic_type\": \"\",\n        \"description\": \"\"\n      }\n    },\n    {\n      \"column\": \"Edad\",\n      \"properties\": {\n        \"dtype\": \"number\",\n        \"std\": 12,\n        \"min\": 13,\n        \"max\": 99,\n        \"num_unique_values\": 84,\n        \"samples\": [\n          88,\n          23\n        ],\n        \"semantic_type\": \"\",\n        \"description\": \"\"\n      }\n    },\n    {\n      \"column\": \"Color\",\n      \"properties\": {\n        \"dtype\": \"number\",\n        \"std\": 2,\n        \"min\": 0,\n        \"max\": 8,\n        \"num_unique_values\": 5,\n        \"samples\": [\n          2,\n          0\n        ],\n        \"semantic_type\": \"\",\n        \"description\": \"\"\n      }\n    },\n    {\n      \"column\": \"A\\u00f1os de Estudio\",\n      \"properties\": {\n        \"dtype\": \"number\",\n        \"std\": 4,\n        \"min\": 1,\n        \"max\": 17,\n        \"num_unique_values\": 17,\n        \"samples\": [\n          12,\n          15\n        ],\n        \"semantic_type\": \"\",\n        \"description\": \"\"\n      }\n    },\n    {\n      \"column\": \"Ingreso\",\n      \"properties\": {\n        \"dtype\": \"number\",\n        \"std\": 3323,\n        \"min\": 0,\n        \"max\": 200000,\n        \"num_unique_values\": 1606,\n        \"samples\": [\n          3279,\n          2456\n        ],\n        \"semantic_type\": \"\",\n        \"description\": \"\"\n      }\n    },\n    {\n      \"column\": \"Altura\",\n      \"properties\": {\n        \"dtype\": \"number\",\n        \"std\": 0.07971743006825309,\n        \"min\": 1.339244614,\n        \"max\": 2.028496765,\n        \"num_unique_values\": 76831,\n        \"samples\": [\n          1.616531581,\n          1.799777606\n        ],\n        \"semantic_type\": \"\",\n        \"description\": \"\"\n      }\n    }\n  ]\n}"
            }
          },
          "metadata": {},
          "execution_count": 3
        }
      ]
    },
    {
      "cell_type": "markdown",
      "metadata": {
        "id": "-z3bLQIUG3Hv"
      },
      "source": [
        "---\n",
        "---"
      ]
    },
    {
      "cell_type": "markdown",
      "metadata": {
        "id": "tL9xVLwTX07g"
      },
      "source": [
        "# <font color=green>2 DISTRIBUCIONES DE PROBABILIDAD</font>\n",
        "***"
      ]
    },
    {
      "cell_type": "markdown",
      "metadata": {
        "id": "3nlvC-5qG3Bj"
      },
      "source": [
        "## <font color=red>Problema</font>\n",
        "***"
      ]
    },
    {
      "cell_type": "markdown",
      "metadata": {
        "id": "8CclIz9oG3Bk"
      },
      "source": [
        "En una competencia para ocupar un puesto de científico de datos, tenemos un total de **10 preguntas** de opción múltiple con **3 alternativas posibles** en cada pregunta. **Cada pregunta tiene el mismo valor.** Suponga que un candidato decide aventurarse sin haber estudiado nada. Decide hacer la prueba con los ojos vendados y adivinar todas las respuestas. Suponiendo que la prueba **vale 10 puntos y la puntuación de corte es 5**, obtenga la probabilidad de que este candidato **acierte 5 preguntas** y también la probabilidad de que el candidato **pase a la siguiente etapa del proceso de selección**."
      ]
    },
    {
      "cell_type": "markdown",
      "metadata": {
        "id": "KJxd2KFSYLML"
      },
      "source": [
        "## <font color=green>2.1 Distribución Binomial</font>\n",
        "***"
      ]
    },
    {
      "cell_type": "markdown",
      "metadata": {
        "id": "mcbl3KbnG3Bq"
      },
      "source": [
        "Un evento **binomial** se caracteriza por la posibilidad de que solo ocurran dos categorías. Estas categorías juntas representan todo el espacio muestral, siendo también mutuamente excluyentes, es decir, la ocurrencia de una implica la no ocurrencia de la otra.\n",
        "\n",
        "En el análisis estadístico, el uso más común de la distribución binomial es para resolver problemas que involucran situaciones de **éxito** y **fracaso**."
      ]
    },
    {
      "cell_type": "markdown",
      "metadata": {
        "id": "iLoYAuJ9G3Bs"
      },
      "source": [
        "# $$P(k)=\\binom{n}{k} p^k q^{n-k}$$\n",
        "\n",
        "Donde:\n",
        "\n",
        "$p$ = probabilidad de éxito\n",
        "\n",
        "$q = (1 - p)$ = probabilidad de fracaso\n",
        "\n",
        "$n$ = número de eventos estudiados\n",
        "\n",
        "$k$ = número de eventos deseados que tienen éxito"
      ]
    },
    {
      "cell_type": "markdown",
      "metadata": {
        "id": "PxEgWbFdG3Bt"
      },
      "source": [
        "### Experimento Binomial"
      ]
    },
    {
      "cell_type": "markdown",
      "metadata": {
        "id": "eqQK3Ny-G3Bv"
      },
      "source": [
        "1. Realización de $n$ pruebas idénticas.\n",
        "\n",
        "2. Las pruebas son independientes.\n",
        "\n",
        "3. Solo son posibles dos resultados, por ejemplo: Verdadero o falso; Cara o cruz; Éxito o fracaso.\n",
        "\n",
        "4. La probabilidad de éxito está representada por $p$ y la probabilidad de fracaso por $1-p = q$. Estas probabilidades no cambian de una prueba para otra."
      ]
    },
    {
      "cell_type": "markdown",
      "metadata": {
        "id": "mT77udQ0G3Bx"
      },
      "source": [
        "### Media de la distribución binomial"
      ]
    },
    {
      "cell_type": "markdown",
      "metadata": {
        "id": "EGiuemgqG3By"
      },
      "source": [
        "El valor esperado o la media de la distribución binomial es igual al número de experimentos realizados multiplicado por la probabilidad de que ocurra el evento.\n",
        "\n",
        "# $$\\mu = n \\times p$$"
      ]
    },
    {
      "cell_type": "markdown",
      "metadata": {
        "id": "1fDLi96OG3Bz"
      },
      "source": [
        "### Desviación estándar de la distribución binomial"
      ]
    },
    {
      "cell_type": "markdown",
      "metadata": {
        "id": "EZojizotG3B1"
      },
      "source": [
        "La desviación estándar es la raíz quadrada del producto entre el número de experimentos, la probabilidad de éxito y la probabilidad de fracaso.\n",
        "\n",
        "# $$\\sigma = \\sqrt{n \\times p \\times q}$$"
      ]
    },
    {
      "cell_type": "markdown",
      "metadata": {
        "id": "udqnjFnsG3B2"
      },
      "source": [
        "### Importando bibliotecas\n",
        "https://docs.scipy.org/doc/scipy/reference/generated/scipy.special.comb.html"
      ]
    },
    {
      "cell_type": "code",
      "metadata": {
        "id": "-U2sGssNG3B4"
      },
      "source": [
        "from scipy.special import comb\n",
        "# esta libreria nos ayuda trabajar"
      ],
      "execution_count": 4,
      "outputs": []
    },
    {
      "cell_type": "markdown",
      "metadata": {
        "id": "MxxuJNSwG3B7"
      },
      "source": [
        "### Combinaciones\n",
        "\n",
        "El número de combinaciones de $n$ objetos, tomando $k$ cada vez, es:\n",
        "\n",
        "# $$C_{k}^{n} = \\binom{n}{k} = \\frac{n!}{k!(n - k)!}$$\n",
        "\n",
        "Donde\n",
        "\n",
        "## $$n! = n\\times(n-1)\\times(n-2)\\times...\\times(2)\\times(1)$$\n",
        "## $$k! = k\\times(k-1)\\times(k-2)\\times...\\times(2)\\times(1)$$\n",
        "\n",
        "Por definición\n",
        "\n",
        "## $$0! = 1$$"
      ]
    },
    {
      "cell_type": "markdown",
      "metadata": {
        "id": "Udz87Pq3G3B8"
      },
      "source": [
        "## <font color='blue'>Ejemplo: Mega Sena</font>"
      ]
    },
    {
      "cell_type": "markdown",
      "metadata": {
        "id": "h1Mo9AxyG3B8"
      },
      "source": [
        "En una rueda de lotería Mega Sena tenemos un total de **60 números** para elegir, donde la apuesta mínima es de **seis números**. Usted que es curioso(a) decide calcular la probabilidad de ganar la Mega Sena con solo **un juego**. Para eso necesitamos saber cuántas **combinaciones de seis números se pueden formar con los 60 números disponibles**.\n",
        "\n",
        "### $$C_{6}^{60} = \\binom{60}{6} = \\frac{60!}{6!(60 - 6)!}$$"
      ]
    },
    {
      "cell_type": "code",
      "metadata": {
        "id": "c2t7yHl7G3B9",
        "colab": {
          "base_uri": "https://localhost:8080/"
        },
        "outputId": "789f6a60-f0d9-4e5a-ed56-1ed53ed58b98"
      },
      "source": [
        "combinaciones = comb(60, 6)\n",
        "print(f'El número de combinaciones es: {combinaciones}')\n",
        "# numero de posibilidades que tengo de escoger nuemreos ganadores"
      ],
      "execution_count": 5,
      "outputs": [
        {
          "output_type": "stream",
          "name": "stdout",
          "text": [
            "El número de combinaciones es: 50063860.0\n"
          ]
        }
      ]
    },
    {
      "cell_type": "code",
      "metadata": {
        "id": "LpioeTSXG3CB",
        "colab": {
          "base_uri": "https://localhost:8080/"
        },
        "outputId": "767e085b-3d72-4576-8dd9-b4af5f999c3b"
      },
      "source": [
        "# la probalididad de ganar es\n",
        "probabilidad = 1 / combinaciones\n",
        "print(f'La probabilidad de ganar es: {probabilidad:0.15f}')\n"
      ],
      "execution_count": 6,
      "outputs": [
        {
          "output_type": "stream",
          "name": "stdout",
          "text": [
            "La probabilidad de ganar es: 0.000000019974489\n"
          ]
        }
      ]
    },
    {
      "cell_type": "markdown",
      "source": [
        "## **RETO**"
      ],
      "metadata": {
        "id": "SZV6g66FkRE7"
      }
    },
    {
      "cell_type": "code",
      "source": [
        "combinaciones_2 = comb(25, 20)\n",
        "print(f'El número de combinaciones es: {combinaciones_2:0.15f}')"
      ],
      "metadata": {
        "colab": {
          "base_uri": "https://localhost:8080/"
        },
        "id": "T5GOh9_6kDSE",
        "outputId": "fed1b1e6-b40d-43f9-ffc0-691d74c5708c"
      },
      "execution_count": 7,
      "outputs": [
        {
          "output_type": "stream",
          "name": "stdout",
          "text": [
            "El número de combinaciones es: 53130.000000000000000\n"
          ]
        }
      ]
    },
    {
      "cell_type": "code",
      "source": [
        "probabilidad_2= 1/combinaciones_2\n",
        "print(f'La probabilidad de ganar es: {probabilidad_2:0.15f}')"
      ],
      "metadata": {
        "colab": {
          "base_uri": "https://localhost:8080/"
        },
        "id": "hT_jQ3YOkT7a",
        "outputId": "16baa2cc-128c-46ef-8f3f-2e4d7b753121"
      },
      "execution_count": 8,
      "outputs": [
        {
          "output_type": "stream",
          "name": "stdout",
          "text": [
            "La probabilidad de ganar es: 0.000018821757952\n"
          ]
        }
      ]
    },
    {
      "cell_type": "markdown",
      "metadata": {
        "id": "t1rA1yJpG3CF"
      },
      "source": [
        "## <font color='blue'>Ejemplo: Concurso para científico de datos</font>"
      ]
    },
    {
      "cell_type": "markdown",
      "metadata": {
        "id": "K0DPDD37G3CG"
      },
      "source": [
        "En una competencia para ocupar un puesto de científico de datos, tenemos un total de **10 preguntas** de opción múltiple con **3 alternativas posibles** en cada pregunta. **Cada pregunta tiene el mismo valor.** Suponga que un candidato decide aventurarse sin haber estudiado nada. Decide tomar la prueba con los ojos vendados y adivinar todas las respuestas. Suponiendo que la prueba **vale 10 puntos y la puntuación de corte es 5**, obtenga la probabilidad de que este candidato **acierte 5 preguntas** y también la probabilidad de que el candidato **pase a la siguiente etapa del proceso de selección**."
      ]
    },
    {
      "cell_type": "markdown",
      "metadata": {
        "id": "sf-NMPfxG3CH"
      },
      "source": [
        "### ¿Cuál es la cantidad de pruebas ($n$)?"
      ]
    },
    {
      "cell_type": "code",
      "metadata": {
        "id": "WmnjMTnYG3CH",
        "colab": {
          "base_uri": "https://localhost:8080/"
        },
        "outputId": "fb8c79c7-60f2-4844-f6f4-303aa73c6480"
      },
      "source": [
        "n = 10\n",
        "n"
      ],
      "execution_count": 9,
      "outputs": [
        {
          "output_type": "execute_result",
          "data": {
            "text/plain": [
              "10"
            ]
          },
          "metadata": {},
          "execution_count": 9
        }
      ]
    },
    {
      "cell_type": "markdown",
      "metadata": {
        "id": "1USf9Ro8G3CK"
      },
      "source": [
        "### ¿Las pruebas son independientes?"
      ]
    },
    {
      "cell_type": "markdown",
      "metadata": {
        "id": "82xf2XIkG3CM"
      },
      "source": [
        "Sí. La opción elegida en una pregunta no influye en la opción elegida en otra pregunta."
      ]
    },
    {
      "cell_type": "markdown",
      "metadata": {
        "id": "7jN0H5e7G3CN"
      },
      "source": [
        "### ¿Sólo dos resultados son posibles en cada prueba?"
      ]
    },
    {
      "cell_type": "markdown",
      "metadata": {
        "id": "gGxcY7K8G3CO"
      },
      "source": [
        "Sí. El candidato tiene dos posibilidades, ACERTAR o FALLAR una pregunta."
      ]
    },
    {
      "cell_type": "markdown",
      "metadata": {
        "id": "MZw2LDQjG3CR"
      },
      "source": [
        "### ¿Cuál es la probabilidad de éxito ($p$)?"
      ]
    },
    {
      "cell_type": "code",
      "metadata": {
        "id": "AazGDtt0G3CS",
        "colab": {
          "base_uri": "https://localhost:8080/"
        },
        "outputId": "84bdfe45-8990-4de6-8f49-999730cd233f"
      },
      "source": [
        "numero_de_alternativas_por_pregunta = 3\n",
        "p = 1 / numero_de_alternativas_por_pregunta\n",
        "p"
      ],
      "execution_count": 10,
      "outputs": [
        {
          "output_type": "execute_result",
          "data": {
            "text/plain": [
              "0.3333333333333333"
            ]
          },
          "metadata": {},
          "execution_count": 10
        }
      ]
    },
    {
      "cell_type": "markdown",
      "metadata": {
        "id": "KPCw41OlG3CX"
      },
      "source": [
        "### ¿Cuál es la probabilidad de fracaso ($q$)?"
      ]
    },
    {
      "cell_type": "code",
      "metadata": {
        "id": "FRhmjCnpG3CZ",
        "colab": {
          "base_uri": "https://localhost:8080/"
        },
        "outputId": "1cead9a0-691a-4729-fc3b-4d64524d1543"
      },
      "source": [
        "# probabilidad de fracaso\n",
        "q = 1 - p\n",
        "q"
      ],
      "execution_count": 11,
      "outputs": [
        {
          "output_type": "execute_result",
          "data": {
            "text/plain": [
              "0.6666666666666667"
            ]
          },
          "metadata": {},
          "execution_count": 11
        }
      ]
    },
    {
      "cell_type": "markdown",
      "metadata": {
        "id": "W2htpmzaG3Ce"
      },
      "source": [
        "### ¿Cuál es el número total de eventos para tener éxito ($k$)?"
      ]
    },
    {
      "cell_type": "code",
      "metadata": {
        "id": "MmHpiIIuG3Cj",
        "colab": {
          "base_uri": "https://localhost:8080/"
        },
        "outputId": "b50837cc-50f6-4672-aaaf-1c0600988b5b"
      },
      "source": [
        "k = 5\n",
        "k"
      ],
      "execution_count": 12,
      "outputs": [
        {
          "output_type": "execute_result",
          "data": {
            "text/plain": [
              "5"
            ]
          },
          "metadata": {},
          "execution_count": 12
        }
      ]
    },
    {
      "cell_type": "markdown",
      "metadata": {
        "id": "r8TZ6DSuG3Cm"
      },
      "source": [
        "### Solución 1"
      ]
    },
    {
      "cell_type": "code",
      "metadata": {
        "id": "tZBbMIzKG3Cn",
        "colab": {
          "base_uri": "https://localhost:8080/"
        },
        "outputId": "362c26ef-70a8-4ff4-9992-6f6ccab7ac79"
      },
      "source": [
        "# Se calcula la probabilidad de obtener exactamente k=5 aciertos en n=10 intentos\n",
        "# utilizando la fórmula de la distribución binomial: P(k) = C(n, k) * p^k * q^(n-k)\n",
        "# donde C(n, k) es el número de combinaciones de n en k (calculado con comb(n, k)),\n",
        "# p es la probabilidad de éxito en un solo intento, y q es la probabilidad de fracaso.\n",
        "probabilidad_de_acierto = (comb(10,5) * (p ** k)* (q**(n-k)))\n",
        "# Se imprime el resultado de la probabilidad de acierto con formato a 8 decimales.\n",
        "print(f'La probabilidad de acierto es: {probabilidad_de_acierto:0.8f}')"
      ],
      "execution_count": 13,
      "outputs": [
        {
          "output_type": "stream",
          "name": "stdout",
          "text": [
            "La probabilidad de acierto es: 0.13656455\n"
          ]
        }
      ]
    },
    {
      "cell_type": "markdown",
      "metadata": {
        "id": "rDwUvW5UG3Cq"
      },
      "source": [
        "### Importando bibliotecas\n",
        "https://docs.scipy.org/doc/scipy/reference/generated/scipy.stats.binom.html"
      ]
    },
    {
      "cell_type": "code",
      "metadata": {
        "id": "rhlsI3iLG3Cr"
      },
      "source": [
        "from scipy.stats import binom"
      ],
      "execution_count": 14,
      "outputs": []
    },
    {
      "cell_type": "markdown",
      "metadata": {
        "id": "hvj2sYaSG3Ct"
      },
      "source": [
        "### Solución 2"
      ]
    },
    {
      "cell_type": "code",
      "metadata": {
        "id": "OjS1xsz5G3Cu",
        "colab": {
          "base_uri": "https://localhost:8080/"
        },
        "outputId": "f2db26ed-160a-46b7-d8a9-cac98f62d10e"
      },
      "source": [
        "# Se calcula la probabilidad de obtener exactamente k aciertos en n intentos,\n",
        "# utilizando la función de masa de probabilidad (pmf) de la distribución binomial\n",
        "# de la librería scipy.stats.\n",
        "# k: número de eventos deseados que tienen éxito (en este caso, 5 aciertos)\n",
        "# n: número de eventos estudiados (en este caso, 10 preguntas)\n",
        "# p: probabilidad de éxito en un solo intento (en este caso, 1/3 de probabilidad de adivinar correctamente)\n",
        "probabilidad = binom.pmf(k, n, p)\n",
        "# Se imprime el resultado de la probabilidad de acierto con formato a 8 decimales.\n",
        "print(f'La probabilidad de acierto es: {probabilidad:0.8f}')"
      ],
      "execution_count": 15,
      "outputs": [
        {
          "output_type": "stream",
          "name": "stdout",
          "text": [
            "La probabilidad de acierto es: 0.13656455\n"
          ]
        }
      ]
    },
    {
      "cell_type": "markdown",
      "metadata": {
        "id": "fT3vvRYGVeBG"
      },
      "source": [
        "### Obtenga la probabilidad de que el candidato apruebe"
      ]
    },
    {
      "cell_type": "markdown",
      "metadata": {
        "id": "SOiiR_XYVeBH"
      },
      "source": [
        "### $$P(acertar \\geq 5) = P(5) + P(6) + P(7) + P(8) + P(9) + P(10)$$"
      ]
    },
    {
      "cell_type": "code",
      "metadata": {
        "id": "MbBQB9JkVeBH",
        "colab": {
          "base_uri": "https://localhost:8080/"
        },
        "outputId": "aebad5b0-d3bc-4286-9935-2d42cd546b7d"
      },
      "source": [
        "# forma mamual\n",
        "# probabilidad de acertar minimo 5 preguntas o a pruebe\n",
        "binom.pmf(5,n,p) + binom.pmf(6,n,p) + binom.pmf(7,n,p) + binom.pmf(8,n,p) + binom.pmf(9,n,p) + binom.pmf(10,n,p)"
      ],
      "execution_count": 16,
      "outputs": [
        {
          "output_type": "execute_result",
          "data": {
            "text/plain": [
              "np.float64(0.21312808006909476)"
            ]
          },
          "metadata": {},
          "execution_count": 16
        }
      ]
    },
    {
      "cell_type": "code",
      "metadata": {
        "id": "JcCrf3dpVeBI",
        "colab": {
          "base_uri": "https://localhost:8080/"
        },
        "outputId": "e5381540-9641-4233-cda6-7711d67286ff"
      },
      "source": [
        "# forma 2 automatizadada\n",
        "binom.pmf([5,6,7,8,9,10],n,p).sum()\n",
        "# creamos una lista con los datos"
      ],
      "execution_count": 17,
      "outputs": [
        {
          "output_type": "execute_result",
          "data": {
            "text/plain": [
              "np.float64(0.21312808006909476)"
            ]
          },
          "metadata": {},
          "execution_count": 17
        }
      ]
    },
    {
      "cell_type": "code",
      "metadata": {
        "id": "iiZjUp8_VeBJ",
        "colab": {
          "base_uri": "https://localhost:8080/"
        },
        "outputId": "2c679b9a-64c7-4c75-b666-4ae6c3c3d5ba"
      },
      "source": [
        "# forma 3 forma mas simple\n",
        "# Calcula la probabilidad de obtener a lo sumo 4 aciertos (es decir, 0, 1, 2, 3 o 4 aciertos)\n",
        "# utilizando la función de distribución acumulada (cdf) de la distribución binomial\n",
        "# con n=10 ensayos y probabilidad de éxito p.\n",
        "# Esta es la probabilidad de NO aprobar, ya que se necesita al menos 5 aciertos para aprobar.\n",
        "probabilidad_hasta_4 = binom.cdf(4, n, p)\n",
        "# Muestra la probabilidad de aprobar.\n",
        "print(probabilidad_hasta_4)"
      ],
      "execution_count": 18,
      "outputs": [
        {
          "output_type": "stream",
          "name": "stdout",
          "text": [
            "0.7868719199309048\n"
          ]
        }
      ]
    },
    {
      "cell_type": "code",
      "source": [
        "# Calcula la probabilidad de obtener al menos 5 aciertos (es decir, 5, 6, 7, 8, 9 o 10 aciertos).\n",
        "# Esto se hace restando la probabilidad de obtener 4 o menos aciertos (probabilidad_hasta_4) de 1.\n",
        "# Esta es la probabilidad de aprobar el examen.\n",
        "probabilidad_aprobar = 1 - probabilidad_hasta_4\n",
        "print(probabilidad_aprobar)"
      ],
      "metadata": {
        "colab": {
          "base_uri": "https://localhost:8080/"
        },
        "id": "QFv9Sep1nhQ0",
        "outputId": "5dc16906-a34a-452a-93c1-5eecec78003c"
      },
      "execution_count": 19,
      "outputs": [
        {
          "output_type": "stream",
          "name": "stdout",
          "text": [
            "0.21312808006909523\n"
          ]
        }
      ]
    },
    {
      "cell_type": "code",
      "metadata": {
        "id": "r-hkg9l4VeBK",
        "colab": {
          "base_uri": "https://localhost:8080/"
        },
        "outputId": "8a58482b-d0ee-4d62-a9b2-30ab89b59c29"
      },
      "source": [
        "# forma mas simple (función de supervivencia)\n",
        "# Calcula la probabilidad de obtener más de k=4 aciertos (es decir, 5, 6, 7, 8, 9 o 10 aciertos)\n",
        "# utilizando la función de supervivencia (sf) de la distribución binomial\n",
        "# con n=10 ensayos y probabilidad de éxito p.\n",
        "# binom.sf(k, n, p) = P(X > k) = P(X >= k+1)\n",
        "binom.sf(4,n,p)\n",
        "# esta funcion hace diretamente la funcion la probabilidad de acertar"
      ],
      "execution_count": 20,
      "outputs": [
        {
          "output_type": "execute_result",
          "data": {
            "text/plain": [
              "np.float64(0.21312808006909525)"
            ]
          },
          "metadata": {},
          "execution_count": 20
        }
      ]
    },
    {
      "cell_type": "markdown",
      "source": [
        "## RETO"
      ],
      "metadata": {
        "id": "pqWFZ3LkpDHs"
      }
    },
    {
      "cell_type": "code",
      "source": [
        "# from scipy.stats import binom\n",
        "\n",
        "p_mon= 1 / 2  # Probabilidad de salir CRUZ\n",
        "n_mon = 4          # Total de lanzamientos\n",
        "k_mon = 2          # Total de aciertos (CRUZ hacia arriba)\n",
        "\n",
        "binom.pmf(k_mon, n_mon, p_mon)"
      ],
      "metadata": {
        "colab": {
          "base_uri": "https://localhost:8080/"
        },
        "id": "5cFTEB3cp-qn",
        "outputId": "5b7b393b-e3f4-48a3-82b3-baaf3c38edb1"
      },
      "execution_count": 21,
      "outputs": [
        {
          "output_type": "execute_result",
          "data": {
            "text/plain": [
              "np.float64(0.375)"
            ]
          },
          "metadata": {},
          "execution_count": 21
        }
      ]
    },
    {
      "cell_type": "code",
      "source": [
        "# from scipy.stats import binom\n",
        "\n",
        "p = 1 / 6   # Probabilidad de salir el número CINCO\n",
        "n = 10      # Total de lanzamientos\n",
        "\n",
        "print(f'{binom.sf(2, n, p):.2%}')"
      ],
      "metadata": {
        "colab": {
          "base_uri": "https://localhost:8080/"
        },
        "id": "NSZENjvHqSoS",
        "outputId": "422b7dfc-6ee8-43f8-d86c-c3f918cfab38"
      },
      "execution_count": 22,
      "outputs": [
        {
          "output_type": "stream",
          "name": "stdout",
          "text": [
            "22.48%\n"
          ]
        }
      ]
    },
    {
      "cell_type": "markdown",
      "metadata": {
        "id": "7hAZ4XkMG3Cx"
      },
      "source": [
        "## <font color='blue'>Ejemplo: Yincana</font>"
      ]
    },
    {
      "cell_type": "markdown",
      "metadata": {
        "id": "l42alRhOG3Cy"
      },
      "source": [
        "Una ciudad del interior realiza una yincana cada año para recaudar fondos para el hospital de la ciudad. En la última competencia se sabe que la **proporción de mujeres participantes fue del 60%**. **El número total de equipos, con 12 miembros, inscritos en la yincana de este año es 30**. Con la información anterior, responda: ¿Cuántos equipos deberían estar formados por **8 mujeres**?"
      ]
    },
    {
      "cell_type": "markdown",
      "metadata": {
        "id": "dqBGf6d7G3C0"
      },
      "source": [
        "### Solución"
      ]
    },
    {
      "cell_type": "code",
      "metadata": {
        "id": "Xw9b6ch3G3C1",
        "colab": {
          "base_uri": "https://localhost:8080/"
        },
        "outputId": "cc42c9a6-44e5-4f8f-9cb1-3fbb55121323"
      },
      "source": [
        "p = 0.6\n",
        "p\n",
        "# probabilididad de selecioanr a una mujer"
      ],
      "execution_count": 23,
      "outputs": [
        {
          "output_type": "execute_result",
          "data": {
            "text/plain": [
              "0.6"
            ]
          },
          "metadata": {},
          "execution_count": 23
        }
      ]
    },
    {
      "cell_type": "code",
      "metadata": {
        "id": "R3-RaxP5G3C3",
        "colab": {
          "base_uri": "https://localhost:8080/"
        },
        "outputId": "cd022658-a7f1-45c4-d32d-bdfa10f1804e"
      },
      "source": [
        "n = 12\n",
        "n\n",
        "# cantidad de personas en el equipo\n",
        "# cantidad de veces de selecioanr una persona"
      ],
      "execution_count": 24,
      "outputs": [
        {
          "output_type": "execute_result",
          "data": {
            "text/plain": [
              "12"
            ]
          },
          "metadata": {},
          "execution_count": 24
        }
      ]
    },
    {
      "cell_type": "code",
      "metadata": {
        "id": "otBHHyD0G3C6",
        "colab": {
          "base_uri": "https://localhost:8080/"
        },
        "outputId": "75fc8a39-112a-4c16-cbb2-d5bc9cd671cb"
      },
      "source": [
        "k = 8\n",
        "k\n",
        "# evento de existo"
      ],
      "execution_count": 25,
      "outputs": [
        {
          "output_type": "execute_result",
          "data": {
            "text/plain": [
              "8"
            ]
          },
          "metadata": {},
          "execution_count": 25
        }
      ]
    },
    {
      "cell_type": "code",
      "metadata": {
        "id": "ZAoBvbQqG3C9",
        "colab": {
          "base_uri": "https://localhost:8080/"
        },
        "outputId": "41213444-f2b4-4641-95bc-d16b7c120ee1"
      },
      "source": [
        "probabilidad_yinkana = binom.pmf(k,n,p)\n",
        "print(f'La probabilidad de yinkana es: {probabilidad_yinkana:0.8f}')\n",
        "# esto pasa a ser nuestros exito"
      ],
      "execution_count": 26,
      "outputs": [
        {
          "output_type": "stream",
          "name": "stdout",
          "text": [
            "La probabilidad de yinkana es: 0.21284094\n"
          ]
        }
      ]
    },
    {
      "cell_type": "code",
      "metadata": {
        "id": "Tg53uGL4G3DA",
        "colab": {
          "base_uri": "https://localhost:8080/"
        },
        "outputId": "823ccdbf-00ea-482f-aa12-f30423cb0c0d"
      },
      "source": [
        "# De los 30 cuantso equipos pueden estar formados con esta configuracion\n",
        "media_binomial = 30 * probabilidad_yinkana\n",
        "print(f'La media de la distribución binomial es: {media_binomial:0.0f}')"
      ],
      "execution_count": 27,
      "outputs": [
        {
          "output_type": "stream",
          "name": "stdout",
          "text": [
            "La media de la distribución binomial es: 6\n"
          ]
        }
      ]
    },
    {
      "cell_type": "markdown",
      "source": [
        "## RETO"
      ],
      "metadata": {
        "id": "igs9s3m6skfv"
      }
    },
    {
      "cell_type": "code",
      "source": [
        "# from scipy.stats import binom\n",
        "\n",
        "# p: Probabilidad de éxito en un solo ensayo/evento.\n",
        "# En un problema, busca la proporción o el porcentaje de un resultado específico.\n",
        "p = 0.22\n",
        "\n",
        "# n: Número de ensayos o repeticiones en un experimento binomial individual.\n",
        "# Busca el número de veces que se repite el evento en cada \"grupo\" o \"muestra\".\n",
        "n = 3\n",
        "\n",
        "# k: Número deseado de éxitos en los n ensayos.\n",
        "# Busca el número específico de veces que se espera que ocurra el evento de éxito.\n",
        "k = 2\n",
        "\n",
        "# N: Número total de grupos o experimentos que se están considerando.\n",
        "# Busca la cantidad total de \"muestras\" o \"equipos\" en el problema.\n",
        "N = 50\n",
        "\n",
        "# Calcula la probabilidad de obtener exactamente k éxitos en n ensayos utilizando la función de masa de probabilidad (pmf) de la distribución binomial.\n",
        "probabilidad = binom.pmf(k, n, p)\n",
        "\n",
        "# Calcula la media de la distribución binomial (número esperado de éxitos en N grupos) multiplicando la probabilidad de éxito en un grupo por el número total de grupos.\n",
        "media = probabilidad * N\n",
        "\n",
        "# Imprime la probabilidad calculada con formato a 8 decimales.\n",
        "print(f'La probabilidad de acierto es: {probabilidad:0.8f}')\n",
        "# Imprime la media calculada con formato a 8 decimales.\n",
        "print(f'La media de la distribución binomial es: {media:0.8f}')"
      ],
      "metadata": {
        "colab": {
          "base_uri": "https://localhost:8080/"
        },
        "id": "orCdbNRotFxu",
        "outputId": "c6a6aa0c-ff2f-4a8b-fd75-5edf3d128c14"
      },
      "execution_count": 28,
      "outputs": [
        {
          "output_type": "stream",
          "name": "stdout",
          "text": [
            "La probabilidad de acierto es: 0.11325600\n",
            "La media de la distribución binomial es: 5.66280000\n"
          ]
        }
      ]
    },
    {
      "cell_type": "markdown",
      "metadata": {
        "id": "49TiCQRvG3DC"
      },
      "source": [
        "---\n",
        "---"
      ]
    },
    {
      "cell_type": "markdown",
      "metadata": {
        "id": "X6bYonAZG3DE"
      },
      "source": [
        "## <font color=red>Problema</font>\n",
        "***"
      ]
    },
    {
      "cell_type": "markdown",
      "metadata": {
        "id": "Ccx-Bc9oG3DH"
      },
      "source": [
        "Un restaurante recibe un promedio de **20 pedidos por hora**. ¿Cuál es la probabilidad de que, en un momento determinado al azar, el restaurante reciba **15 pedidos**?"
      ]
    },
    {
      "cell_type": "markdown",
      "metadata": {
        "id": "k-uV7bgsmand"
      },
      "source": [
        "## <font color=green>2.2 Distribución Poisson</font>\n",
        "***"
      ]
    },
    {
      "cell_type": "markdown",
      "metadata": {
        "id": "H0jPtJICG3DM"
      },
      "source": [
        "Se utiliza para describir el número de ocurrencias en un tiempo o espacio específico. Los eventos se caracterizan por la posibilidad de contar los éxitos, pero no poder contar los fracasos.\n",
        "\n",
        "Como ejemplos de procesos donde podemos aplicar la distribución de Poisson tenemos la determinación del número de clientes que ingresan a una tienda en un momento determinado, el número de autos que llegan a un Auto-servicio de una cafetería a la hora del almuerzo, la determinación del número de accidentes registrados en un tramo de carretera, etc."
      ]
    },
    {
      "cell_type": "markdown",
      "metadata": {
        "id": "O_XqwANJG3DN"
      },
      "source": [
        "# $$P(k) = \\frac{e^{-\\mu}(\\mu)^k}{k!}$$\n",
        "\n",
        "Donde:\n",
        "\n",
        "$e$ = constante cuyo valor aproximado es 2.718281828459045\n",
        "\n",
        "$\\mu$ = representa el número promedio de ocurrencias en un intervalo de tiempo o espacio dado\n",
        "\n",
        "$k$ = número de éxitos en el intervalo deseado"
      ]
    },
    {
      "cell_type": "markdown",
      "metadata": {
        "id": "FqquU8wOG3DO"
      },
      "source": [
        "### Experimento Poisson"
      ]
    },
    {
      "cell_type": "markdown",
      "metadata": {
        "id": "ir2odEW3G3DO"
      },
      "source": [
        "1. La probabilidad de que ocurra es la misma en todo el intervalo observado.\n",
        "\n",
        "2. El número de ocurrencias en un intervalo dado es independiente del número de ocurrencias en otros intervalos.\n",
        "\n",
        "3. La probabilidad de que ocurra es la misma en intervalos de igual longitud."
      ]
    },
    {
      "cell_type": "markdown",
      "metadata": {
        "id": "2INlWMa0G3DP"
      },
      "source": [
        "### Media de la distribución Poisson"
      ]
    },
    {
      "cell_type": "markdown",
      "metadata": {
        "id": "xywTsniCG3DP"
      },
      "source": [
        "# $$\\mu$$"
      ]
    },
    {
      "cell_type": "markdown",
      "metadata": {
        "id": "7-Lh-LpfG3DQ"
      },
      "source": [
        "### Desviación estándar de la distribución Poisson"
      ]
    },
    {
      "cell_type": "markdown",
      "metadata": {
        "id": "61uStWUsG3DQ"
      },
      "source": [
        "# $$\\sigma = \\sqrt{\\mu}$$"
      ]
    },
    {
      "cell_type": "markdown",
      "metadata": {
        "id": "vniBmzIMG3DR"
      },
      "source": [
        "### Importando bibliotecas\n",
        "\n",
        "http://www.numpy.org/"
      ]
    },
    {
      "cell_type": "code",
      "metadata": {
        "id": "w23fjVT-G3DS"
      },
      "source": [
        "import numpy as np"
      ],
      "execution_count": 29,
      "outputs": []
    },
    {
      "cell_type": "code",
      "metadata": {
        "id": "rdNqMuFNG3DU",
        "colab": {
          "base_uri": "https://localhost:8080/"
        },
        "outputId": "a1d13617-60ba-44cf-848d-17badb3fe70b"
      },
      "source": [
        "# numero de Euler\n",
        "np.e"
      ],
      "execution_count": 30,
      "outputs": [
        {
          "output_type": "execute_result",
          "data": {
            "text/plain": [
              "2.718281828459045"
            ]
          },
          "metadata": {},
          "execution_count": 30
        }
      ]
    },
    {
      "cell_type": "markdown",
      "metadata": {
        "id": "RKQWuVgMG3DW"
      },
      "source": [
        "## <font color='blue'>Ejemplo: Delivery</font>"
      ]
    },
    {
      "cell_type": "markdown",
      "metadata": {
        "id": "ZKc__49bG3DX"
      },
      "source": [
        "Un restaurante recibe un promedio de **20 pedidos por hora**. ¿Cuál es la probabilidad de que, en un momento determinado al azar, el restaurante reciba **15 pedidos**?"
      ]
    },
    {
      "cell_type": "markdown",
      "metadata": {
        "id": "W-MJ4XBkG3DX"
      },
      "source": [
        "### ¿Cuál es el número promedio de ocurrencias por hora ($\\mu$)?"
      ]
    },
    {
      "cell_type": "code",
      "metadata": {
        "id": "2fVfJxdSG3DY",
        "colab": {
          "base_uri": "https://localhost:8080/"
        },
        "outputId": "e0ca3081-e934-4fbf-dcbf-7e79dae54050"
      },
      "source": [
        "media = 20\n",
        "media\n",
        "# se recibe como media"
      ],
      "execution_count": 31,
      "outputs": [
        {
          "output_type": "execute_result",
          "data": {
            "text/plain": [
              "20"
            ]
          },
          "metadata": {},
          "execution_count": 31
        }
      ]
    },
    {
      "cell_type": "markdown",
      "metadata": {
        "id": "3SagRtPvG3Da"
      },
      "source": [
        "### ¿Qué número de ocurrencias queremos obtener en el período ($k$)?"
      ]
    },
    {
      "cell_type": "code",
      "metadata": {
        "id": "yXB3QhWyG3Da",
        "colab": {
          "base_uri": "https://localhost:8080/"
        },
        "outputId": "5b0c6d4c-c606-4732-a2cc-63f545cb2ef6"
      },
      "source": [
        "k = 15\n",
        "k\n",
        "# numero de ocurrencias que queremos obtener"
      ],
      "execution_count": 32,
      "outputs": [
        {
          "output_type": "execute_result",
          "data": {
            "text/plain": [
              "15"
            ]
          },
          "metadata": {},
          "execution_count": 32
        }
      ]
    },
    {
      "cell_type": "markdown",
      "metadata": {
        "id": "3wFh3lFCG3De"
      },
      "source": [
        "### Solución 1"
      ]
    },
    {
      "cell_type": "code",
      "source": [
        "import math"
      ],
      "metadata": {
        "id": "KiLpw1NpxVpN"
      },
      "execution_count": 33,
      "outputs": []
    },
    {
      "cell_type": "code",
      "metadata": {
        "id": "IEGO31WCG3Df",
        "colab": {
          "base_uri": "https://localhost:8080/"
        },
        "outputId": "928e13fb-a687-4755-c81a-3ee9890aa50e"
      },
      "source": [
        "probabilidad_delivery = ((np.e**(-media)) * (media**k))/(math.factorial(k))\n",
        "print(f'La probabilidad de recibir 15 pedidos es: {probabilidad_delivery:0.8f}')"
      ],
      "execution_count": 34,
      "outputs": [
        {
          "output_type": "stream",
          "name": "stdout",
          "text": [
            "La probabilidad de recibir 15 pedidos es: 0.05164885\n"
          ]
        }
      ]
    },
    {
      "cell_type": "markdown",
      "metadata": {
        "id": "GoIBvH62G3Di"
      },
      "source": [
        "### Importando bibliotecas"
      ]
    },
    {
      "cell_type": "markdown",
      "metadata": {
        "id": "iFSF_9Y4G3Dj"
      },
      "source": [
        "https://docs.scipy.org/doc/scipy/reference/generated/scipy.stats.poisson.html"
      ]
    },
    {
      "cell_type": "markdown",
      "metadata": {
        "id": "yAyXh0euG3Dk"
      },
      "source": [
        "### Solución 2"
      ]
    },
    {
      "cell_type": "code",
      "metadata": {
        "id": "sNw4oCAyG3Dk"
      },
      "source": [
        "# funcion mas obtimizada\n",
        "from scipy.stats import poisson"
      ],
      "execution_count": 35,
      "outputs": []
    },
    {
      "cell_type": "code",
      "source": [
        "# Calcula la probabilidad de obtener exactamente k ocurrencias (pedidos) en un intervalo de tiempo (por hora),\n",
        "# utilizando la función de masa de probabilidad (pmf) de la distribución de Poisson\n",
        "# de la librería scipy.stats.\n",
        "# k: número de éxitos deseados en el intervalo (en este caso, 15 pedidos)\n",
        "# media: número promedio de ocurrencias en el intervalo (en este caso, 20 pedidos por hora)\n",
        "probabilidad_delivery = poisson.pmf(k, media)\n",
        "\n",
        "# Se imprime el resultado de la probabilidad calculada con formato a 8 decimales.\n",
        "print(f'La probabilidad de recibir 15 pedidos es: {probabilidad_delivery:0.8f}')"
      ],
      "metadata": {
        "colab": {
          "base_uri": "https://localhost:8080/"
        },
        "id": "VdgsXwiSxsCl",
        "outputId": "8f5c2182-8eb4-436a-a756-173990bd6b49"
      },
      "execution_count": 36,
      "outputs": [
        {
          "output_type": "stream",
          "name": "stdout",
          "text": [
            "La probabilidad de recibir 15 pedidos es: 0.05164885\n"
          ]
        }
      ]
    },
    {
      "cell_type": "markdown",
      "source": [
        "## **RETO**"
      ],
      "metadata": {
        "id": "7_SMXYfizQ61"
      }
    },
    {
      "cell_type": "code",
      "source": [
        "media = 20\n",
        "k = 25"
      ],
      "metadata": {
        "id": "4wkGrk4TzS1a"
      },
      "execution_count": 37,
      "outputs": []
    },
    {
      "cell_type": "code",
      "source": [
        "probabilidad_delivery = poisson.pmf(k, media)\n",
        "\n",
        "# Se imprime el resultado de la probabilidad calculada con formato a 8 decimales.\n",
        "print(f'La probabilidad de recibir 15 pedidos es: {probabilidad_delivery:0.8f}')\n",
        "# Se imprime el resultado de la probabilidad calculada como porcentaje.\n",
        "print(f'La probabilidad de recibir 15 pedidos es: {probabilidad_delivery:.2%}')"
      ],
      "metadata": {
        "colab": {
          "base_uri": "https://localhost:8080/"
        },
        "id": "zOtMVHUZzcU3",
        "outputId": "96f4017e-3859-489c-c644-05dad598369b"
      },
      "execution_count": 38,
      "outputs": [
        {
          "output_type": "stream",
          "name": "stdout",
          "text": [
            "La probabilidad de recibir 15 pedidos es: 0.04458765\n",
            "La probabilidad de recibir 15 pedidos es: 4.46%\n"
          ]
        }
      ]
    },
    {
      "cell_type": "markdown",
      "metadata": {
        "id": "g3ng8tQFG3Do"
      },
      "source": [
        "---\n",
        "---"
      ]
    },
    {
      "cell_type": "markdown",
      "metadata": {
        "id": "tVPUT9kEG3Dp"
      },
      "source": [
        "## <font color=red>Problema</font>\n",
        "***"
      ]
    },
    {
      "cell_type": "markdown",
      "metadata": {
        "id": "j7zVDN0kG3Dq"
      },
      "source": [
        "En un estudio sobre la altura de los residentes de una ciudad, se encontró que el conjunto de datos sigue una **distribución aproximadamente normal**, con **media 1.70** y **desviación estándar de 0.1**. Con esta información, obtenga el siguiente conjunto de probabilidades:\n",
        "\n",
        "> **A.** probabilidad de que una persona, seleccionada al azar, sea menor de 1.80 metros.\n",
        "\n",
        "> **B.** probabilidad de que una persona, seleccionada al azar, tenga entre 1.60 metros y 1.80 metros.\n",
        "\n",
        "> **C.** probabilidad de que una persona, seleccionada al azar, tenga más de 1.90 metros.\n"
      ]
    },
    {
      "cell_type": "markdown",
      "metadata": {
        "id": "AowcVaKqpvf2"
      },
      "source": [
        "## <font color=green>2.3 Distribución Normal</font>\n",
        "***"
      ]
    },
    {
      "cell_type": "markdown",
      "metadata": {
        "id": "YOBD21hGG3Dw"
      },
      "source": [
        "La distribución normal es una de las más utilizadas en estadística. Es una distribución continua, donde la distribución de frecuencias de una variable cuantitativa tiene forma de campana y es simétrica en relación con su media."
      ]
    },
    {
      "cell_type": "markdown",
      "metadata": {
        "id": "kbPy2ORqqKJA"
      },
      "source": [
        "<img src='https://caelum-online-public.s3.amazonaws.com/ESP-1764-estadistica-con-python-probabilidad-y-muestreo/img001.png' width='500px'>"
      ]
    },
    {
      "cell_type": "markdown",
      "metadata": {
        "id": "J3eKESHTG3Dx"
      },
      "source": [
        "### Características importantes"
      ]
    },
    {
      "cell_type": "markdown",
      "metadata": {
        "id": "z8GxAzWZG3Dx"
      },
      "source": [
        "1. Es simétrica alrededor de la media;\n",
        "\n",
        "2. El área bajo la curva corresponde a la proporción 1 o 100%;\n",
        "\n",
        "3. Las medidas de tendencia central (media, mediana y moda) tienen el mismo valor;\n",
        "\n",
        "4. Los extremos de la curva tienden al infinito en ambas direcciones y, teóricamente, nunca tocan el eje $x$;\n",
        "\n",
        "5. La desviación estándar define la planitud y el ancho de la distribución. Las curvas más anchas y planas tienen valores de desviación estándar más altos;\n",
        "\n",
        "6. La distribución se define por su media y desviación estándar;\n",
        "\n",
        "7. La probabilidad siempre será igual al área bajo la curva, delimitada por los límites superior e inferior."
      ]
    },
    {
      "cell_type": "markdown",
      "metadata": {
        "id": "hoWLlOiwG3Dy"
      },
      "source": [
        "# $$f(x) = \\frac{1}{\\sqrt{2\\pi\\sigma}}e^{-\\frac{1}{2}\\left(\\frac{x-\\mu}{\\sigma}\\right)^2}$$\n",
        "\n",
        "Donde:\n",
        "\n",
        "$x$ = variable normal\n",
        "\n",
        "$\\sigma$ = desviación estándar\n",
        "\n",
        "$\\mu$ = media"
      ]
    },
    {
      "cell_type": "markdown",
      "metadata": {
        "id": "8n03Z0VlG3Dz"
      },
      "source": [
        "La probabilidad se obtiene del área bajo la curva, delimitada por los límites superior e inferior especificados. Se puede ver un ejemplo en la figura siguiente."
      ]
    },
    {
      "cell_type": "markdown",
      "metadata": {
        "id": "X1UgmFoxG3Dz"
      },
      "source": [
        "<img src='https://caelum-online-public.s3.amazonaws.com/ESP-1764-estadistica-con-python-probabilidad-y-muestreo/img002.png' width='500px'>\n"
      ]
    },
    {
      "cell_type": "markdown",
      "metadata": {
        "id": "rtKiApHLG3D0"
      },
      "source": [
        "Para obtener el área anterior, simplemente calcule la integral de la función para los intervalos determinados. Según la siguiente ecuación:"
      ]
    },
    {
      "cell_type": "markdown",
      "metadata": {
        "id": "0r_9CbSOG3D0"
      },
      "source": [
        "# $$P(L_i<x<L_s) = \\int_{L_i}^{L_s}\\frac{1}{\\sqrt{2\\pi\\sigma}}e^{-\\frac{1}{2}\\left(\\frac{x-\\mu}{\\sigma}\\right)^2}$$\n",
        "\n",
        "Donde:\n",
        "\n",
        "$x$ = variable normal\n",
        "\n",
        "$\\sigma$ = desviación estándar\n",
        "\n",
        "$\\mu$ = media\n",
        "\n",
        "$L_i$ = límite inferior\n",
        "\n",
        "$L_s$ = límite superior"
      ]
    },
    {
      "cell_type": "markdown",
      "metadata": {
        "id": "qP-Ye-leG3D1"
      },
      "source": [
        "### Tablas estandarizadas"
      ]
    },
    {
      "cell_type": "markdown",
      "metadata": {
        "id": "Z1VnLK11G3D1"
      },
      "source": [
        "Se crearon tablas estandarizadas para facilitar la obtención de los valores de las áreas bajo la curva normal y eliminar la necesidad de resolver integrales definidas.\n",
        "\n",
        "Para ver los valores en una tabla estandarizada, simplemente transforme nuestra variable en una variable estandarizada $Z$.\n",
        "\n",
        "Esta variable $Z$ representa la desviación en las desviaciones estándar de un valor de la variable original en relación con la media."
      ]
    },
    {
      "cell_type": "markdown",
      "metadata": {
        "id": "HJcdgdsgG3D2"
      },
      "source": [
        "# $$Z = \\frac{x-\\mu}{\\sigma}$$\n",
        "\n",
        "Donde:\n",
        "\n",
        "$x$ = variable normal con media $\\mu$ y desviación estándar $\\sigma$\n",
        "\n",
        "$\\sigma$ = desviación estándar\n",
        "\n",
        "$\\mu$ = media"
      ]
    },
    {
      "cell_type": "markdown",
      "metadata": {
        "id": "hUrVKJH3G3D2"
      },
      "source": [
        "### Construyendo la tabla normal estandarizada\n",
        "https://docs.scipy.org/doc/scipy/reference/generated/scipy.stats.norm.html"
      ]
    },
    {
      "cell_type": "code",
      "metadata": {
        "colab": {
          "base_uri": "https://localhost:8080/",
          "height": 1000
        },
        "id": "7SudUNlcG3D4",
        "outputId": "9f341fa2-5d9e-4125-b3f7-f82ea3c6823b"
      },
      "source": [
        "import pandas as pd\n",
        "import numpy as np\n",
        "from scipy.stats import norm\n",
        "\n",
        "# Creamos un DataFrame vacío para representar la tabla normal estandarizada.\n",
        "# Los índices (filas) representan las unidades y las primeras decimales del valor Z.\n",
        "# Las columnas representan la segunda decimal del valor Z.\n",
        "tabla_normal_estandarizada = pd.DataFrame(\n",
        "    [],\n",
        "    index=[\"{0:0.2f}\".format(i / 100) for i in range(0, 400, 10)],\n",
        "    columns = [\"{0:0.2f}\".format(i / 100) for i in range(0, 10)])\n",
        "\n",
        "# Llenamos el DataFrame con los valores del área bajo la curva normal estándar.\n",
        "# Estos valores corresponden a la probabilidad acumulada hasta el valor Z dado.\n",
        "for index in tabla_normal_estandarizada.index:\n",
        "    for column in tabla_normal_estandarizada.columns:\n",
        "        # Calculamos el valor Z combinando el índice de la fila y la columna.\n",
        "        Z = np.round(float(index) + float(column), 2)\n",
        "        # Obtenemos el área bajo la curva normal estándar hasta el valor Z utilizando la función cdf (función de distribución acumulada) de scipy.stats.norm.\n",
        "        tabla_normal_estandarizada.loc[index, column] = \"{0:0.4f}\".format(norm.cdf(Z))\n",
        "\n",
        "# Renombramos el eje de las columnas a 'Z' para mayor claridad.\n",
        "tabla_normal_estandarizada.rename_axis('Z', axis = 'columns', inplace = True)\n",
        "\n",
        "# Mostramos la tabla normal estandarizada generada.\n",
        "# Esta tabla permite encontrar la probabilidad de que una variable aleatoria normal estándar sea menor o igual a un valor Z dado.\n",
        "tabla_normal_estandarizada"
      ],
      "execution_count": 40,
      "outputs": [
        {
          "output_type": "execute_result",
          "data": {
            "text/plain": [
              "Z       0.00    0.01    0.02    0.03    0.04    0.05    0.06    0.07    0.08  \\\n",
              "0.00  0.5000  0.5040  0.5080  0.5120  0.5160  0.5199  0.5239  0.5279  0.5319   \n",
              "0.10  0.5398  0.5438  0.5478  0.5517  0.5557  0.5596  0.5636  0.5675  0.5714   \n",
              "0.20  0.5793  0.5832  0.5871  0.5910  0.5948  0.5987  0.6026  0.6064  0.6103   \n",
              "0.30  0.6179  0.6217  0.6255  0.6293  0.6331  0.6368  0.6406  0.6443  0.6480   \n",
              "0.40  0.6554  0.6591  0.6628  0.6664  0.6700  0.6736  0.6772  0.6808  0.6844   \n",
              "0.50  0.6915  0.6950  0.6985  0.7019  0.7054  0.7088  0.7123  0.7157  0.7190   \n",
              "0.60  0.7257  0.7291  0.7324  0.7357  0.7389  0.7422  0.7454  0.7486  0.7517   \n",
              "0.70  0.7580  0.7611  0.7642  0.7673  0.7704  0.7734  0.7764  0.7794  0.7823   \n",
              "0.80  0.7881  0.7910  0.7939  0.7967  0.7995  0.8023  0.8051  0.8078  0.8106   \n",
              "0.90  0.8159  0.8186  0.8212  0.8238  0.8264  0.8289  0.8315  0.8340  0.8365   \n",
              "1.00  0.8413  0.8438  0.8461  0.8485  0.8508  0.8531  0.8554  0.8577  0.8599   \n",
              "1.10  0.8643  0.8665  0.8686  0.8708  0.8729  0.8749  0.8770  0.8790  0.8810   \n",
              "1.20  0.8849  0.8869  0.8888  0.8907  0.8925  0.8944  0.8962  0.8980  0.8997   \n",
              "1.30  0.9032  0.9049  0.9066  0.9082  0.9099  0.9115  0.9131  0.9147  0.9162   \n",
              "1.40  0.9192  0.9207  0.9222  0.9236  0.9251  0.9265  0.9279  0.9292  0.9306   \n",
              "1.50  0.9332  0.9345  0.9357  0.9370  0.9382  0.9394  0.9406  0.9418  0.9429   \n",
              "1.60  0.9452  0.9463  0.9474  0.9484  0.9495  0.9505  0.9515  0.9525  0.9535   \n",
              "1.70  0.9554  0.9564  0.9573  0.9582  0.9591  0.9599  0.9608  0.9616  0.9625   \n",
              "1.80  0.9641  0.9649  0.9656  0.9664  0.9671  0.9678  0.9686  0.9693  0.9699   \n",
              "1.90  0.9713  0.9719  0.9726  0.9732  0.9738  0.9744  0.9750  0.9756  0.9761   \n",
              "2.00  0.9772  0.9778  0.9783  0.9788  0.9793  0.9798  0.9803  0.9808  0.9812   \n",
              "2.10  0.9821  0.9826  0.9830  0.9834  0.9838  0.9842  0.9846  0.9850  0.9854   \n",
              "2.20  0.9861  0.9864  0.9868  0.9871  0.9875  0.9878  0.9881  0.9884  0.9887   \n",
              "2.30  0.9893  0.9896  0.9898  0.9901  0.9904  0.9906  0.9909  0.9911  0.9913   \n",
              "2.40  0.9918  0.9920  0.9922  0.9925  0.9927  0.9929  0.9931  0.9932  0.9934   \n",
              "2.50  0.9938  0.9940  0.9941  0.9943  0.9945  0.9946  0.9948  0.9949  0.9951   \n",
              "2.60  0.9953  0.9955  0.9956  0.9957  0.9959  0.9960  0.9961  0.9962  0.9963   \n",
              "2.70  0.9965  0.9966  0.9967  0.9968  0.9969  0.9970  0.9971  0.9972  0.9973   \n",
              "2.80  0.9974  0.9975  0.9976  0.9977  0.9977  0.9978  0.9979  0.9979  0.9980   \n",
              "2.90  0.9981  0.9982  0.9982  0.9983  0.9984  0.9984  0.9985  0.9985  0.9986   \n",
              "3.00  0.9987  0.9987  0.9987  0.9988  0.9988  0.9989  0.9989  0.9989  0.9990   \n",
              "3.10  0.9990  0.9991  0.9991  0.9991  0.9992  0.9992  0.9992  0.9992  0.9993   \n",
              "3.20  0.9993  0.9993  0.9994  0.9994  0.9994  0.9994  0.9994  0.9995  0.9995   \n",
              "3.30  0.9995  0.9995  0.9995  0.9996  0.9996  0.9996  0.9996  0.9996  0.9996   \n",
              "3.40  0.9997  0.9997  0.9997  0.9997  0.9997  0.9997  0.9997  0.9997  0.9997   \n",
              "3.50  0.9998  0.9998  0.9998  0.9998  0.9998  0.9998  0.9998  0.9998  0.9998   \n",
              "3.60  0.9998  0.9998  0.9999  0.9999  0.9999  0.9999  0.9999  0.9999  0.9999   \n",
              "3.70  0.9999  0.9999  0.9999  0.9999  0.9999  0.9999  0.9999  0.9999  0.9999   \n",
              "3.80  0.9999  0.9999  0.9999  0.9999  0.9999  0.9999  0.9999  0.9999  0.9999   \n",
              "3.90  1.0000  1.0000  1.0000  1.0000  1.0000  1.0000  1.0000  1.0000  1.0000   \n",
              "\n",
              "Z       0.09  \n",
              "0.00  0.5359  \n",
              "0.10  0.5753  \n",
              "0.20  0.6141  \n",
              "0.30  0.6517  \n",
              "0.40  0.6879  \n",
              "0.50  0.7224  \n",
              "0.60  0.7549  \n",
              "0.70  0.7852  \n",
              "0.80  0.8133  \n",
              "0.90  0.8389  \n",
              "1.00  0.8621  \n",
              "1.10  0.8830  \n",
              "1.20  0.9015  \n",
              "1.30  0.9177  \n",
              "1.40  0.9319  \n",
              "1.50  0.9441  \n",
              "1.60  0.9545  \n",
              "1.70  0.9633  \n",
              "1.80  0.9706  \n",
              "1.90  0.9767  \n",
              "2.00  0.9817  \n",
              "2.10  0.9857  \n",
              "2.20  0.9890  \n",
              "2.30  0.9916  \n",
              "2.40  0.9936  \n",
              "2.50  0.9952  \n",
              "2.60  0.9964  \n",
              "2.70  0.9974  \n",
              "2.80  0.9981  \n",
              "2.90  0.9986  \n",
              "3.00  0.9990  \n",
              "3.10  0.9993  \n",
              "3.20  0.9995  \n",
              "3.30  0.9997  \n",
              "3.40  0.9998  \n",
              "3.50  0.9998  \n",
              "3.60  0.9999  \n",
              "3.70  0.9999  \n",
              "3.80  0.9999  \n",
              "3.90  1.0000  "
            ],
            "text/html": [
              "\n",
              "  <div id=\"df-6e78182e-5d9e-48a7-bfee-c45cba73fa53\" class=\"colab-df-container\">\n",
              "    <div>\n",
              "<style scoped>\n",
              "    .dataframe tbody tr th:only-of-type {\n",
              "        vertical-align: middle;\n",
              "    }\n",
              "\n",
              "    .dataframe tbody tr th {\n",
              "        vertical-align: top;\n",
              "    }\n",
              "\n",
              "    .dataframe thead th {\n",
              "        text-align: right;\n",
              "    }\n",
              "</style>\n",
              "<table border=\"1\" class=\"dataframe\">\n",
              "  <thead>\n",
              "    <tr style=\"text-align: right;\">\n",
              "      <th>Z</th>\n",
              "      <th>0.00</th>\n",
              "      <th>0.01</th>\n",
              "      <th>0.02</th>\n",
              "      <th>0.03</th>\n",
              "      <th>0.04</th>\n",
              "      <th>0.05</th>\n",
              "      <th>0.06</th>\n",
              "      <th>0.07</th>\n",
              "      <th>0.08</th>\n",
              "      <th>0.09</th>\n",
              "    </tr>\n",
              "  </thead>\n",
              "  <tbody>\n",
              "    <tr>\n",
              "      <th>0.00</th>\n",
              "      <td>0.5000</td>\n",
              "      <td>0.5040</td>\n",
              "      <td>0.5080</td>\n",
              "      <td>0.5120</td>\n",
              "      <td>0.5160</td>\n",
              "      <td>0.5199</td>\n",
              "      <td>0.5239</td>\n",
              "      <td>0.5279</td>\n",
              "      <td>0.5319</td>\n",
              "      <td>0.5359</td>\n",
              "    </tr>\n",
              "    <tr>\n",
              "      <th>0.10</th>\n",
              "      <td>0.5398</td>\n",
              "      <td>0.5438</td>\n",
              "      <td>0.5478</td>\n",
              "      <td>0.5517</td>\n",
              "      <td>0.5557</td>\n",
              "      <td>0.5596</td>\n",
              "      <td>0.5636</td>\n",
              "      <td>0.5675</td>\n",
              "      <td>0.5714</td>\n",
              "      <td>0.5753</td>\n",
              "    </tr>\n",
              "    <tr>\n",
              "      <th>0.20</th>\n",
              "      <td>0.5793</td>\n",
              "      <td>0.5832</td>\n",
              "      <td>0.5871</td>\n",
              "      <td>0.5910</td>\n",
              "      <td>0.5948</td>\n",
              "      <td>0.5987</td>\n",
              "      <td>0.6026</td>\n",
              "      <td>0.6064</td>\n",
              "      <td>0.6103</td>\n",
              "      <td>0.6141</td>\n",
              "    </tr>\n",
              "    <tr>\n",
              "      <th>0.30</th>\n",
              "      <td>0.6179</td>\n",
              "      <td>0.6217</td>\n",
              "      <td>0.6255</td>\n",
              "      <td>0.6293</td>\n",
              "      <td>0.6331</td>\n",
              "      <td>0.6368</td>\n",
              "      <td>0.6406</td>\n",
              "      <td>0.6443</td>\n",
              "      <td>0.6480</td>\n",
              "      <td>0.6517</td>\n",
              "    </tr>\n",
              "    <tr>\n",
              "      <th>0.40</th>\n",
              "      <td>0.6554</td>\n",
              "      <td>0.6591</td>\n",
              "      <td>0.6628</td>\n",
              "      <td>0.6664</td>\n",
              "      <td>0.6700</td>\n",
              "      <td>0.6736</td>\n",
              "      <td>0.6772</td>\n",
              "      <td>0.6808</td>\n",
              "      <td>0.6844</td>\n",
              "      <td>0.6879</td>\n",
              "    </tr>\n",
              "    <tr>\n",
              "      <th>0.50</th>\n",
              "      <td>0.6915</td>\n",
              "      <td>0.6950</td>\n",
              "      <td>0.6985</td>\n",
              "      <td>0.7019</td>\n",
              "      <td>0.7054</td>\n",
              "      <td>0.7088</td>\n",
              "      <td>0.7123</td>\n",
              "      <td>0.7157</td>\n",
              "      <td>0.7190</td>\n",
              "      <td>0.7224</td>\n",
              "    </tr>\n",
              "    <tr>\n",
              "      <th>0.60</th>\n",
              "      <td>0.7257</td>\n",
              "      <td>0.7291</td>\n",
              "      <td>0.7324</td>\n",
              "      <td>0.7357</td>\n",
              "      <td>0.7389</td>\n",
              "      <td>0.7422</td>\n",
              "      <td>0.7454</td>\n",
              "      <td>0.7486</td>\n",
              "      <td>0.7517</td>\n",
              "      <td>0.7549</td>\n",
              "    </tr>\n",
              "    <tr>\n",
              "      <th>0.70</th>\n",
              "      <td>0.7580</td>\n",
              "      <td>0.7611</td>\n",
              "      <td>0.7642</td>\n",
              "      <td>0.7673</td>\n",
              "      <td>0.7704</td>\n",
              "      <td>0.7734</td>\n",
              "      <td>0.7764</td>\n",
              "      <td>0.7794</td>\n",
              "      <td>0.7823</td>\n",
              "      <td>0.7852</td>\n",
              "    </tr>\n",
              "    <tr>\n",
              "      <th>0.80</th>\n",
              "      <td>0.7881</td>\n",
              "      <td>0.7910</td>\n",
              "      <td>0.7939</td>\n",
              "      <td>0.7967</td>\n",
              "      <td>0.7995</td>\n",
              "      <td>0.8023</td>\n",
              "      <td>0.8051</td>\n",
              "      <td>0.8078</td>\n",
              "      <td>0.8106</td>\n",
              "      <td>0.8133</td>\n",
              "    </tr>\n",
              "    <tr>\n",
              "      <th>0.90</th>\n",
              "      <td>0.8159</td>\n",
              "      <td>0.8186</td>\n",
              "      <td>0.8212</td>\n",
              "      <td>0.8238</td>\n",
              "      <td>0.8264</td>\n",
              "      <td>0.8289</td>\n",
              "      <td>0.8315</td>\n",
              "      <td>0.8340</td>\n",
              "      <td>0.8365</td>\n",
              "      <td>0.8389</td>\n",
              "    </tr>\n",
              "    <tr>\n",
              "      <th>1.00</th>\n",
              "      <td>0.8413</td>\n",
              "      <td>0.8438</td>\n",
              "      <td>0.8461</td>\n",
              "      <td>0.8485</td>\n",
              "      <td>0.8508</td>\n",
              "      <td>0.8531</td>\n",
              "      <td>0.8554</td>\n",
              "      <td>0.8577</td>\n",
              "      <td>0.8599</td>\n",
              "      <td>0.8621</td>\n",
              "    </tr>\n",
              "    <tr>\n",
              "      <th>1.10</th>\n",
              "      <td>0.8643</td>\n",
              "      <td>0.8665</td>\n",
              "      <td>0.8686</td>\n",
              "      <td>0.8708</td>\n",
              "      <td>0.8729</td>\n",
              "      <td>0.8749</td>\n",
              "      <td>0.8770</td>\n",
              "      <td>0.8790</td>\n",
              "      <td>0.8810</td>\n",
              "      <td>0.8830</td>\n",
              "    </tr>\n",
              "    <tr>\n",
              "      <th>1.20</th>\n",
              "      <td>0.8849</td>\n",
              "      <td>0.8869</td>\n",
              "      <td>0.8888</td>\n",
              "      <td>0.8907</td>\n",
              "      <td>0.8925</td>\n",
              "      <td>0.8944</td>\n",
              "      <td>0.8962</td>\n",
              "      <td>0.8980</td>\n",
              "      <td>0.8997</td>\n",
              "      <td>0.9015</td>\n",
              "    </tr>\n",
              "    <tr>\n",
              "      <th>1.30</th>\n",
              "      <td>0.9032</td>\n",
              "      <td>0.9049</td>\n",
              "      <td>0.9066</td>\n",
              "      <td>0.9082</td>\n",
              "      <td>0.9099</td>\n",
              "      <td>0.9115</td>\n",
              "      <td>0.9131</td>\n",
              "      <td>0.9147</td>\n",
              "      <td>0.9162</td>\n",
              "      <td>0.9177</td>\n",
              "    </tr>\n",
              "    <tr>\n",
              "      <th>1.40</th>\n",
              "      <td>0.9192</td>\n",
              "      <td>0.9207</td>\n",
              "      <td>0.9222</td>\n",
              "      <td>0.9236</td>\n",
              "      <td>0.9251</td>\n",
              "      <td>0.9265</td>\n",
              "      <td>0.9279</td>\n",
              "      <td>0.9292</td>\n",
              "      <td>0.9306</td>\n",
              "      <td>0.9319</td>\n",
              "    </tr>\n",
              "    <tr>\n",
              "      <th>1.50</th>\n",
              "      <td>0.9332</td>\n",
              "      <td>0.9345</td>\n",
              "      <td>0.9357</td>\n",
              "      <td>0.9370</td>\n",
              "      <td>0.9382</td>\n",
              "      <td>0.9394</td>\n",
              "      <td>0.9406</td>\n",
              "      <td>0.9418</td>\n",
              "      <td>0.9429</td>\n",
              "      <td>0.9441</td>\n",
              "    </tr>\n",
              "    <tr>\n",
              "      <th>1.60</th>\n",
              "      <td>0.9452</td>\n",
              "      <td>0.9463</td>\n",
              "      <td>0.9474</td>\n",
              "      <td>0.9484</td>\n",
              "      <td>0.9495</td>\n",
              "      <td>0.9505</td>\n",
              "      <td>0.9515</td>\n",
              "      <td>0.9525</td>\n",
              "      <td>0.9535</td>\n",
              "      <td>0.9545</td>\n",
              "    </tr>\n",
              "    <tr>\n",
              "      <th>1.70</th>\n",
              "      <td>0.9554</td>\n",
              "      <td>0.9564</td>\n",
              "      <td>0.9573</td>\n",
              "      <td>0.9582</td>\n",
              "      <td>0.9591</td>\n",
              "      <td>0.9599</td>\n",
              "      <td>0.9608</td>\n",
              "      <td>0.9616</td>\n",
              "      <td>0.9625</td>\n",
              "      <td>0.9633</td>\n",
              "    </tr>\n",
              "    <tr>\n",
              "      <th>1.80</th>\n",
              "      <td>0.9641</td>\n",
              "      <td>0.9649</td>\n",
              "      <td>0.9656</td>\n",
              "      <td>0.9664</td>\n",
              "      <td>0.9671</td>\n",
              "      <td>0.9678</td>\n",
              "      <td>0.9686</td>\n",
              "      <td>0.9693</td>\n",
              "      <td>0.9699</td>\n",
              "      <td>0.9706</td>\n",
              "    </tr>\n",
              "    <tr>\n",
              "      <th>1.90</th>\n",
              "      <td>0.9713</td>\n",
              "      <td>0.9719</td>\n",
              "      <td>0.9726</td>\n",
              "      <td>0.9732</td>\n",
              "      <td>0.9738</td>\n",
              "      <td>0.9744</td>\n",
              "      <td>0.9750</td>\n",
              "      <td>0.9756</td>\n",
              "      <td>0.9761</td>\n",
              "      <td>0.9767</td>\n",
              "    </tr>\n",
              "    <tr>\n",
              "      <th>2.00</th>\n",
              "      <td>0.9772</td>\n",
              "      <td>0.9778</td>\n",
              "      <td>0.9783</td>\n",
              "      <td>0.9788</td>\n",
              "      <td>0.9793</td>\n",
              "      <td>0.9798</td>\n",
              "      <td>0.9803</td>\n",
              "      <td>0.9808</td>\n",
              "      <td>0.9812</td>\n",
              "      <td>0.9817</td>\n",
              "    </tr>\n",
              "    <tr>\n",
              "      <th>2.10</th>\n",
              "      <td>0.9821</td>\n",
              "      <td>0.9826</td>\n",
              "      <td>0.9830</td>\n",
              "      <td>0.9834</td>\n",
              "      <td>0.9838</td>\n",
              "      <td>0.9842</td>\n",
              "      <td>0.9846</td>\n",
              "      <td>0.9850</td>\n",
              "      <td>0.9854</td>\n",
              "      <td>0.9857</td>\n",
              "    </tr>\n",
              "    <tr>\n",
              "      <th>2.20</th>\n",
              "      <td>0.9861</td>\n",
              "      <td>0.9864</td>\n",
              "      <td>0.9868</td>\n",
              "      <td>0.9871</td>\n",
              "      <td>0.9875</td>\n",
              "      <td>0.9878</td>\n",
              "      <td>0.9881</td>\n",
              "      <td>0.9884</td>\n",
              "      <td>0.9887</td>\n",
              "      <td>0.9890</td>\n",
              "    </tr>\n",
              "    <tr>\n",
              "      <th>2.30</th>\n",
              "      <td>0.9893</td>\n",
              "      <td>0.9896</td>\n",
              "      <td>0.9898</td>\n",
              "      <td>0.9901</td>\n",
              "      <td>0.9904</td>\n",
              "      <td>0.9906</td>\n",
              "      <td>0.9909</td>\n",
              "      <td>0.9911</td>\n",
              "      <td>0.9913</td>\n",
              "      <td>0.9916</td>\n",
              "    </tr>\n",
              "    <tr>\n",
              "      <th>2.40</th>\n",
              "      <td>0.9918</td>\n",
              "      <td>0.9920</td>\n",
              "      <td>0.9922</td>\n",
              "      <td>0.9925</td>\n",
              "      <td>0.9927</td>\n",
              "      <td>0.9929</td>\n",
              "      <td>0.9931</td>\n",
              "      <td>0.9932</td>\n",
              "      <td>0.9934</td>\n",
              "      <td>0.9936</td>\n",
              "    </tr>\n",
              "    <tr>\n",
              "      <th>2.50</th>\n",
              "      <td>0.9938</td>\n",
              "      <td>0.9940</td>\n",
              "      <td>0.9941</td>\n",
              "      <td>0.9943</td>\n",
              "      <td>0.9945</td>\n",
              "      <td>0.9946</td>\n",
              "      <td>0.9948</td>\n",
              "      <td>0.9949</td>\n",
              "      <td>0.9951</td>\n",
              "      <td>0.9952</td>\n",
              "    </tr>\n",
              "    <tr>\n",
              "      <th>2.60</th>\n",
              "      <td>0.9953</td>\n",
              "      <td>0.9955</td>\n",
              "      <td>0.9956</td>\n",
              "      <td>0.9957</td>\n",
              "      <td>0.9959</td>\n",
              "      <td>0.9960</td>\n",
              "      <td>0.9961</td>\n",
              "      <td>0.9962</td>\n",
              "      <td>0.9963</td>\n",
              "      <td>0.9964</td>\n",
              "    </tr>\n",
              "    <tr>\n",
              "      <th>2.70</th>\n",
              "      <td>0.9965</td>\n",
              "      <td>0.9966</td>\n",
              "      <td>0.9967</td>\n",
              "      <td>0.9968</td>\n",
              "      <td>0.9969</td>\n",
              "      <td>0.9970</td>\n",
              "      <td>0.9971</td>\n",
              "      <td>0.9972</td>\n",
              "      <td>0.9973</td>\n",
              "      <td>0.9974</td>\n",
              "    </tr>\n",
              "    <tr>\n",
              "      <th>2.80</th>\n",
              "      <td>0.9974</td>\n",
              "      <td>0.9975</td>\n",
              "      <td>0.9976</td>\n",
              "      <td>0.9977</td>\n",
              "      <td>0.9977</td>\n",
              "      <td>0.9978</td>\n",
              "      <td>0.9979</td>\n",
              "      <td>0.9979</td>\n",
              "      <td>0.9980</td>\n",
              "      <td>0.9981</td>\n",
              "    </tr>\n",
              "    <tr>\n",
              "      <th>2.90</th>\n",
              "      <td>0.9981</td>\n",
              "      <td>0.9982</td>\n",
              "      <td>0.9982</td>\n",
              "      <td>0.9983</td>\n",
              "      <td>0.9984</td>\n",
              "      <td>0.9984</td>\n",
              "      <td>0.9985</td>\n",
              "      <td>0.9985</td>\n",
              "      <td>0.9986</td>\n",
              "      <td>0.9986</td>\n",
              "    </tr>\n",
              "    <tr>\n",
              "      <th>3.00</th>\n",
              "      <td>0.9987</td>\n",
              "      <td>0.9987</td>\n",
              "      <td>0.9987</td>\n",
              "      <td>0.9988</td>\n",
              "      <td>0.9988</td>\n",
              "      <td>0.9989</td>\n",
              "      <td>0.9989</td>\n",
              "      <td>0.9989</td>\n",
              "      <td>0.9990</td>\n",
              "      <td>0.9990</td>\n",
              "    </tr>\n",
              "    <tr>\n",
              "      <th>3.10</th>\n",
              "      <td>0.9990</td>\n",
              "      <td>0.9991</td>\n",
              "      <td>0.9991</td>\n",
              "      <td>0.9991</td>\n",
              "      <td>0.9992</td>\n",
              "      <td>0.9992</td>\n",
              "      <td>0.9992</td>\n",
              "      <td>0.9992</td>\n",
              "      <td>0.9993</td>\n",
              "      <td>0.9993</td>\n",
              "    </tr>\n",
              "    <tr>\n",
              "      <th>3.20</th>\n",
              "      <td>0.9993</td>\n",
              "      <td>0.9993</td>\n",
              "      <td>0.9994</td>\n",
              "      <td>0.9994</td>\n",
              "      <td>0.9994</td>\n",
              "      <td>0.9994</td>\n",
              "      <td>0.9994</td>\n",
              "      <td>0.9995</td>\n",
              "      <td>0.9995</td>\n",
              "      <td>0.9995</td>\n",
              "    </tr>\n",
              "    <tr>\n",
              "      <th>3.30</th>\n",
              "      <td>0.9995</td>\n",
              "      <td>0.9995</td>\n",
              "      <td>0.9995</td>\n",
              "      <td>0.9996</td>\n",
              "      <td>0.9996</td>\n",
              "      <td>0.9996</td>\n",
              "      <td>0.9996</td>\n",
              "      <td>0.9996</td>\n",
              "      <td>0.9996</td>\n",
              "      <td>0.9997</td>\n",
              "    </tr>\n",
              "    <tr>\n",
              "      <th>3.40</th>\n",
              "      <td>0.9997</td>\n",
              "      <td>0.9997</td>\n",
              "      <td>0.9997</td>\n",
              "      <td>0.9997</td>\n",
              "      <td>0.9997</td>\n",
              "      <td>0.9997</td>\n",
              "      <td>0.9997</td>\n",
              "      <td>0.9997</td>\n",
              "      <td>0.9997</td>\n",
              "      <td>0.9998</td>\n",
              "    </tr>\n",
              "    <tr>\n",
              "      <th>3.50</th>\n",
              "      <td>0.9998</td>\n",
              "      <td>0.9998</td>\n",
              "      <td>0.9998</td>\n",
              "      <td>0.9998</td>\n",
              "      <td>0.9998</td>\n",
              "      <td>0.9998</td>\n",
              "      <td>0.9998</td>\n",
              "      <td>0.9998</td>\n",
              "      <td>0.9998</td>\n",
              "      <td>0.9998</td>\n",
              "    </tr>\n",
              "    <tr>\n",
              "      <th>3.60</th>\n",
              "      <td>0.9998</td>\n",
              "      <td>0.9998</td>\n",
              "      <td>0.9999</td>\n",
              "      <td>0.9999</td>\n",
              "      <td>0.9999</td>\n",
              "      <td>0.9999</td>\n",
              "      <td>0.9999</td>\n",
              "      <td>0.9999</td>\n",
              "      <td>0.9999</td>\n",
              "      <td>0.9999</td>\n",
              "    </tr>\n",
              "    <tr>\n",
              "      <th>3.70</th>\n",
              "      <td>0.9999</td>\n",
              "      <td>0.9999</td>\n",
              "      <td>0.9999</td>\n",
              "      <td>0.9999</td>\n",
              "      <td>0.9999</td>\n",
              "      <td>0.9999</td>\n",
              "      <td>0.9999</td>\n",
              "      <td>0.9999</td>\n",
              "      <td>0.9999</td>\n",
              "      <td>0.9999</td>\n",
              "    </tr>\n",
              "    <tr>\n",
              "      <th>3.80</th>\n",
              "      <td>0.9999</td>\n",
              "      <td>0.9999</td>\n",
              "      <td>0.9999</td>\n",
              "      <td>0.9999</td>\n",
              "      <td>0.9999</td>\n",
              "      <td>0.9999</td>\n",
              "      <td>0.9999</td>\n",
              "      <td>0.9999</td>\n",
              "      <td>0.9999</td>\n",
              "      <td>0.9999</td>\n",
              "    </tr>\n",
              "    <tr>\n",
              "      <th>3.90</th>\n",
              "      <td>1.0000</td>\n",
              "      <td>1.0000</td>\n",
              "      <td>1.0000</td>\n",
              "      <td>1.0000</td>\n",
              "      <td>1.0000</td>\n",
              "      <td>1.0000</td>\n",
              "      <td>1.0000</td>\n",
              "      <td>1.0000</td>\n",
              "      <td>1.0000</td>\n",
              "      <td>1.0000</td>\n",
              "    </tr>\n",
              "  </tbody>\n",
              "</table>\n",
              "</div>\n",
              "    <div class=\"colab-df-buttons\">\n",
              "\n",
              "  <div class=\"colab-df-container\">\n",
              "    <button class=\"colab-df-convert\" onclick=\"convertToInteractive('df-6e78182e-5d9e-48a7-bfee-c45cba73fa53')\"\n",
              "            title=\"Convert this dataframe to an interactive table.\"\n",
              "            style=\"display:none;\">\n",
              "\n",
              "  <svg xmlns=\"http://www.w3.org/2000/svg\" height=\"24px\" viewBox=\"0 -960 960 960\">\n",
              "    <path d=\"M120-120v-720h720v720H120Zm60-500h600v-160H180v160Zm220 220h160v-160H400v160Zm0 220h160v-160H400v160ZM180-400h160v-160H180v160Zm440 0h160v-160H620v160ZM180-180h160v-160H180v160Zm440 0h160v-160H620v160Z\"/>\n",
              "  </svg>\n",
              "    </button>\n",
              "\n",
              "  <style>\n",
              "    .colab-df-container {\n",
              "      display:flex;\n",
              "      gap: 12px;\n",
              "    }\n",
              "\n",
              "    .colab-df-convert {\n",
              "      background-color: #E8F0FE;\n",
              "      border: none;\n",
              "      border-radius: 50%;\n",
              "      cursor: pointer;\n",
              "      display: none;\n",
              "      fill: #1967D2;\n",
              "      height: 32px;\n",
              "      padding: 0 0 0 0;\n",
              "      width: 32px;\n",
              "    }\n",
              "\n",
              "    .colab-df-convert:hover {\n",
              "      background-color: #E2EBFA;\n",
              "      box-shadow: 0px 1px 2px rgba(60, 64, 67, 0.3), 0px 1px 3px 1px rgba(60, 64, 67, 0.15);\n",
              "      fill: #174EA6;\n",
              "    }\n",
              "\n",
              "    .colab-df-buttons div {\n",
              "      margin-bottom: 4px;\n",
              "    }\n",
              "\n",
              "    [theme=dark] .colab-df-convert {\n",
              "      background-color: #3B4455;\n",
              "      fill: #D2E3FC;\n",
              "    }\n",
              "\n",
              "    [theme=dark] .colab-df-convert:hover {\n",
              "      background-color: #434B5C;\n",
              "      box-shadow: 0px 1px 3px 1px rgba(0, 0, 0, 0.15);\n",
              "      filter: drop-shadow(0px 1px 2px rgba(0, 0, 0, 0.3));\n",
              "      fill: #FFFFFF;\n",
              "    }\n",
              "  </style>\n",
              "\n",
              "    <script>\n",
              "      const buttonEl =\n",
              "        document.querySelector('#df-6e78182e-5d9e-48a7-bfee-c45cba73fa53 button.colab-df-convert');\n",
              "      buttonEl.style.display =\n",
              "        google.colab.kernel.accessAllowed ? 'block' : 'none';\n",
              "\n",
              "      async function convertToInteractive(key) {\n",
              "        const element = document.querySelector('#df-6e78182e-5d9e-48a7-bfee-c45cba73fa53');\n",
              "        const dataTable =\n",
              "          await google.colab.kernel.invokeFunction('convertToInteractive',\n",
              "                                                    [key], {});\n",
              "        if (!dataTable) return;\n",
              "\n",
              "        const docLinkHtml = 'Like what you see? Visit the ' +\n",
              "          '<a target=\"_blank\" href=https://colab.research.google.com/notebooks/data_table.ipynb>data table notebook</a>'\n",
              "          + ' to learn more about interactive tables.';\n",
              "        element.innerHTML = '';\n",
              "        dataTable['output_type'] = 'display_data';\n",
              "        await google.colab.output.renderOutput(dataTable, element);\n",
              "        const docLink = document.createElement('div');\n",
              "        docLink.innerHTML = docLinkHtml;\n",
              "        element.appendChild(docLink);\n",
              "      }\n",
              "    </script>\n",
              "  </div>\n",
              "\n",
              "\n",
              "    <div id=\"df-1e148928-5331-4749-8b24-6362e3b0f39a\">\n",
              "      <button class=\"colab-df-quickchart\" onclick=\"quickchart('df-1e148928-5331-4749-8b24-6362e3b0f39a')\"\n",
              "                title=\"Suggest charts\"\n",
              "                style=\"display:none;\">\n",
              "\n",
              "<svg xmlns=\"http://www.w3.org/2000/svg\" height=\"24px\"viewBox=\"0 0 24 24\"\n",
              "     width=\"24px\">\n",
              "    <g>\n",
              "        <path d=\"M19 3H5c-1.1 0-2 .9-2 2v14c0 1.1.9 2 2 2h14c1.1 0 2-.9 2-2V5c0-1.1-.9-2-2-2zM9 17H7v-7h2v7zm4 0h-2V7h2v10zm4 0h-2v-4h2v4z\"/>\n",
              "    </g>\n",
              "</svg>\n",
              "      </button>\n",
              "\n",
              "<style>\n",
              "  .colab-df-quickchart {\n",
              "      --bg-color: #E8F0FE;\n",
              "      --fill-color: #1967D2;\n",
              "      --hover-bg-color: #E2EBFA;\n",
              "      --hover-fill-color: #174EA6;\n",
              "      --disabled-fill-color: #AAA;\n",
              "      --disabled-bg-color: #DDD;\n",
              "  }\n",
              "\n",
              "  [theme=dark] .colab-df-quickchart {\n",
              "      --bg-color: #3B4455;\n",
              "      --fill-color: #D2E3FC;\n",
              "      --hover-bg-color: #434B5C;\n",
              "      --hover-fill-color: #FFFFFF;\n",
              "      --disabled-bg-color: #3B4455;\n",
              "      --disabled-fill-color: #666;\n",
              "  }\n",
              "\n",
              "  .colab-df-quickchart {\n",
              "    background-color: var(--bg-color);\n",
              "    border: none;\n",
              "    border-radius: 50%;\n",
              "    cursor: pointer;\n",
              "    display: none;\n",
              "    fill: var(--fill-color);\n",
              "    height: 32px;\n",
              "    padding: 0;\n",
              "    width: 32px;\n",
              "  }\n",
              "\n",
              "  .colab-df-quickchart:hover {\n",
              "    background-color: var(--hover-bg-color);\n",
              "    box-shadow: 0 1px 2px rgba(60, 64, 67, 0.3), 0 1px 3px 1px rgba(60, 64, 67, 0.15);\n",
              "    fill: var(--button-hover-fill-color);\n",
              "  }\n",
              "\n",
              "  .colab-df-quickchart-complete:disabled,\n",
              "  .colab-df-quickchart-complete:disabled:hover {\n",
              "    background-color: var(--disabled-bg-color);\n",
              "    fill: var(--disabled-fill-color);\n",
              "    box-shadow: none;\n",
              "  }\n",
              "\n",
              "  .colab-df-spinner {\n",
              "    border: 2px solid var(--fill-color);\n",
              "    border-color: transparent;\n",
              "    border-bottom-color: var(--fill-color);\n",
              "    animation:\n",
              "      spin 1s steps(1) infinite;\n",
              "  }\n",
              "\n",
              "  @keyframes spin {\n",
              "    0% {\n",
              "      border-color: transparent;\n",
              "      border-bottom-color: var(--fill-color);\n",
              "      border-left-color: var(--fill-color);\n",
              "    }\n",
              "    20% {\n",
              "      border-color: transparent;\n",
              "      border-left-color: var(--fill-color);\n",
              "      border-top-color: var(--fill-color);\n",
              "    }\n",
              "    30% {\n",
              "      border-color: transparent;\n",
              "      border-left-color: var(--fill-color);\n",
              "      border-top-color: var(--fill-color);\n",
              "      border-right-color: var(--fill-color);\n",
              "    }\n",
              "    40% {\n",
              "      border-color: transparent;\n",
              "      border-right-color: var(--fill-color);\n",
              "      border-top-color: var(--fill-color);\n",
              "    }\n",
              "    60% {\n",
              "      border-color: transparent;\n",
              "      border-right-color: var(--fill-color);\n",
              "    }\n",
              "    80% {\n",
              "      border-color: transparent;\n",
              "      border-right-color: var(--fill-color);\n",
              "      border-bottom-color: var(--fill-color);\n",
              "    }\n",
              "    90% {\n",
              "      border-color: transparent;\n",
              "      border-bottom-color: var(--fill-color);\n",
              "    }\n",
              "  }\n",
              "</style>\n",
              "\n",
              "      <script>\n",
              "        async function quickchart(key) {\n",
              "          const quickchartButtonEl =\n",
              "            document.querySelector('#' + key + ' button');\n",
              "          quickchartButtonEl.disabled = true;  // To prevent multiple clicks.\n",
              "          quickchartButtonEl.classList.add('colab-df-spinner');\n",
              "          try {\n",
              "            const charts = await google.colab.kernel.invokeFunction(\n",
              "                'suggestCharts', [key], {});\n",
              "          } catch (error) {\n",
              "            console.error('Error during call to suggestCharts:', error);\n",
              "          }\n",
              "          quickchartButtonEl.classList.remove('colab-df-spinner');\n",
              "          quickchartButtonEl.classList.add('colab-df-quickchart-complete');\n",
              "        }\n",
              "        (() => {\n",
              "          let quickchartButtonEl =\n",
              "            document.querySelector('#df-1e148928-5331-4749-8b24-6362e3b0f39a button');\n",
              "          quickchartButtonEl.style.display =\n",
              "            google.colab.kernel.accessAllowed ? 'block' : 'none';\n",
              "        })();\n",
              "      </script>\n",
              "    </div>\n",
              "\n",
              "  <div id=\"id_fef33871-c5d2-452d-9062-635d24cc898c\">\n",
              "    <style>\n",
              "      .colab-df-generate {\n",
              "        background-color: #E8F0FE;\n",
              "        border: none;\n",
              "        border-radius: 50%;\n",
              "        cursor: pointer;\n",
              "        display: none;\n",
              "        fill: #1967D2;\n",
              "        height: 32px;\n",
              "        padding: 0 0 0 0;\n",
              "        width: 32px;\n",
              "      }\n",
              "\n",
              "      .colab-df-generate:hover {\n",
              "        background-color: #E2EBFA;\n",
              "        box-shadow: 0px 1px 2px rgba(60, 64, 67, 0.3), 0px 1px 3px 1px rgba(60, 64, 67, 0.15);\n",
              "        fill: #174EA6;\n",
              "      }\n",
              "\n",
              "      [theme=dark] .colab-df-generate {\n",
              "        background-color: #3B4455;\n",
              "        fill: #D2E3FC;\n",
              "      }\n",
              "\n",
              "      [theme=dark] .colab-df-generate:hover {\n",
              "        background-color: #434B5C;\n",
              "        box-shadow: 0px 1px 3px 1px rgba(0, 0, 0, 0.15);\n",
              "        filter: drop-shadow(0px 1px 2px rgba(0, 0, 0, 0.3));\n",
              "        fill: #FFFFFF;\n",
              "      }\n",
              "    </style>\n",
              "    <button class=\"colab-df-generate\" onclick=\"generateWithVariable('tabla_normal_estandarizada')\"\n",
              "            title=\"Generate code using this dataframe.\"\n",
              "            style=\"display:none;\">\n",
              "\n",
              "  <svg xmlns=\"http://www.w3.org/2000/svg\" height=\"24px\"viewBox=\"0 0 24 24\"\n",
              "       width=\"24px\">\n",
              "    <path d=\"M7,19H8.4L18.45,9,17,7.55,7,17.6ZM5,21V16.75L18.45,3.32a2,2,0,0,1,2.83,0l1.4,1.43a1.91,1.91,0,0,1,.58,1.4,1.91,1.91,0,0,1-.58,1.4L9.25,21ZM18.45,9,17,7.55Zm-12,3A5.31,5.31,0,0,0,4.9,8.1,5.31,5.31,0,0,0,1,6.5,5.31,5.31,0,0,0,4.9,4.9,5.31,5.31,0,0,0,6.5,1,5.31,5.31,0,0,0,8.1,4.9,5.31,5.31,0,0,0,12,6.5,5.46,5.46,0,0,0,6.5,12Z\"/>\n",
              "  </svg>\n",
              "    </button>\n",
              "    <script>\n",
              "      (() => {\n",
              "      const buttonEl =\n",
              "        document.querySelector('#id_fef33871-c5d2-452d-9062-635d24cc898c button.colab-df-generate');\n",
              "      buttonEl.style.display =\n",
              "        google.colab.kernel.accessAllowed ? 'block' : 'none';\n",
              "\n",
              "      buttonEl.onclick = () => {\n",
              "        google.colab.notebook.generateWithVariable('tabla_normal_estandarizada');\n",
              "      }\n",
              "      })();\n",
              "    </script>\n",
              "  </div>\n",
              "\n",
              "    </div>\n",
              "  </div>\n"
            ],
            "application/vnd.google.colaboratory.intrinsic+json": {
              "type": "dataframe",
              "variable_name": "tabla_normal_estandarizada",
              "summary": "{\n  \"name\": \"tabla_normal_estandarizada\",\n  \"rows\": 40,\n  \"fields\": [\n    {\n      \"column\": \"0.00\",\n      \"properties\": {\n        \"dtype\": \"string\",\n        \"num_unique_values\": 38,\n        \"samples\": [\n          \"0.9995\",\n          \"0.9999\",\n          \"0.6554\"\n        ],\n        \"semantic_type\": \"\",\n        \"description\": \"\"\n      }\n    },\n    {\n      \"column\": \"0.01\",\n      \"properties\": {\n        \"dtype\": \"string\",\n        \"num_unique_values\": 38,\n        \"samples\": [\n          \"0.9995\",\n          \"0.9999\",\n          \"0.6591\"\n        ],\n        \"semantic_type\": \"\",\n        \"description\": \"\"\n      }\n    },\n    {\n      \"column\": \"0.02\",\n      \"properties\": {\n        \"dtype\": \"string\",\n        \"num_unique_values\": 38,\n        \"samples\": [\n          \"0.9995\",\n          \"0.9999\",\n          \"0.6628\"\n        ],\n        \"semantic_type\": \"\",\n        \"description\": \"\"\n      }\n    },\n    {\n      \"column\": \"0.03\",\n      \"properties\": {\n        \"dtype\": \"string\",\n        \"num_unique_values\": 38,\n        \"samples\": [\n          \"0.9996\",\n          \"0.9999\",\n          \"0.6664\"\n        ],\n        \"semantic_type\": \"\",\n        \"description\": \"\"\n      }\n    },\n    {\n      \"column\": \"0.04\",\n      \"properties\": {\n        \"dtype\": \"string\",\n        \"num_unique_values\": 38,\n        \"samples\": [\n          \"0.9996\",\n          \"0.9999\",\n          \"0.6700\"\n        ],\n        \"semantic_type\": \"\",\n        \"description\": \"\"\n      }\n    },\n    {\n      \"column\": \"0.05\",\n      \"properties\": {\n        \"dtype\": \"string\",\n        \"num_unique_values\": 38,\n        \"samples\": [\n          \"0.9996\",\n          \"0.9999\",\n          \"0.6736\"\n        ],\n        \"semantic_type\": \"\",\n        \"description\": \"\"\n      }\n    },\n    {\n      \"column\": \"0.06\",\n      \"properties\": {\n        \"dtype\": \"string\",\n        \"num_unique_values\": 38,\n        \"samples\": [\n          \"0.9996\",\n          \"0.9999\",\n          \"0.6772\"\n        ],\n        \"semantic_type\": \"\",\n        \"description\": \"\"\n      }\n    },\n    {\n      \"column\": \"0.07\",\n      \"properties\": {\n        \"dtype\": \"string\",\n        \"num_unique_values\": 38,\n        \"samples\": [\n          \"0.9996\",\n          \"0.9999\",\n          \"0.6808\"\n        ],\n        \"semantic_type\": \"\",\n        \"description\": \"\"\n      }\n    },\n    {\n      \"column\": \"0.08\",\n      \"properties\": {\n        \"dtype\": \"string\",\n        \"num_unique_values\": 38,\n        \"samples\": [\n          \"0.9996\",\n          \"0.9999\",\n          \"0.6844\"\n        ],\n        \"semantic_type\": \"\",\n        \"description\": \"\"\n      }\n    },\n    {\n      \"column\": \"0.09\",\n      \"properties\": {\n        \"dtype\": \"string\",\n        \"num_unique_values\": 37,\n        \"samples\": [\n          \"0.9633\",\n          \"0.9177\",\n          \"0.6879\"\n        ],\n        \"semantic_type\": \"\",\n        \"description\": \"\"\n      }\n    }\n  ]\n}"
            }
          },
          "metadata": {},
          "execution_count": 40
        }
      ]
    },
    {
      "cell_type": "markdown",
      "metadata": {
        "id": "XHYeMaN3G3D9"
      },
      "source": [
        "<img src='https://caelum-online-public.s3.amazonaws.com/ESP-1764-estadistica-con-python-probabilidad-y-muestreo/img003.png' width='250px'>\n",
        "\n",
        "La tabla anterior proporciona el área bajo la curva entre $-\\infty$ y $Z$ desviaciones estándar por encima de la media. Recordando que dado que estos son valores estandarizados, tenemos $\\mu = 0$."
      ]
    },
    {
      "cell_type": "markdown",
      "metadata": {
        "id": "Bs-KyZAJG3D-"
      },
      "source": [
        "## <font color='blue'>Ejemplo: ¿Cuánto mides?</font>"
      ]
    },
    {
      "cell_type": "markdown",
      "metadata": {
        "id": "8PFIjXejG3EA"
      },
      "source": [
        "En un estudio sobre la altura de los residentes de una ciudad, se encontró que el conjunto de datos sigue una **distribución aproximadamente normal**, con **media 1.70** y **desviación estándar de 0.1**. Con esta información, obtenga el siguiente conjunto de probabilidades:\n",
        "\n",
        "> **A.** probabilidad de que una persona, seleccionada al azar, mida menos que 1.80 metros.\n",
        "\n",
        "> **B.** probabilidad de que una persona, seleccionada al azar, mida entre 1.60 metros y 1.80 metros.\n",
        "\n",
        "> **C.** probabilidad de que una persona, seleccionada al azar, mida más de 1.90 metros."
      ]
    },
    {
      "cell_type": "markdown",
      "metadata": {
        "id": "aHpZLwt1G3EC"
      },
      "source": [
        "### Problema A - Identificación del área bajo la curva"
      ]
    },
    {
      "cell_type": "markdown",
      "metadata": {
        "id": "V1eC7tydG3EF"
      },
      "source": [
        "<img style='float: left' src='https://caelum-online-public.s3.amazonaws.com/ESP-1764-estadistica-con-python-probabilidad-y-muestreo/img004.png' width='350px'>\n"
      ]
    },
    {
      "cell_type": "markdown",
      "metadata": {
        "id": "X61wEuRrG3EI"
      },
      "source": [
        "### Obtener la variable estandarizada $Z$"
      ]
    },
    {
      "cell_type": "code",
      "metadata": {
        "id": "gNSNIMvZG3EK",
        "colab": {
          "base_uri": "https://localhost:8080/"
        },
        "outputId": "55d9cb8e-985f-4bd0-b159-f6b581f8bfd1"
      },
      "source": [
        "# construimos nuestra variable estandarizada\n",
        "media = 1.70\n",
        "media"
      ],
      "execution_count": 41,
      "outputs": [
        {
          "output_type": "execute_result",
          "data": {
            "text/plain": [
              "1.7"
            ]
          },
          "metadata": {},
          "execution_count": 41
        }
      ]
    },
    {
      "cell_type": "code",
      "metadata": {
        "id": "E_f2lycRG3ES",
        "colab": {
          "base_uri": "https://localhost:8080/"
        },
        "outputId": "da59e96d-4d20-4037-b875-7be4761987d8"
      },
      "source": [
        "desviacion_estandar = 0.1\n",
        "desviacion_estandar\n",
        "# desviacion estandar"
      ],
      "execution_count": 43,
      "outputs": [
        {
          "output_type": "execute_result",
          "data": {
            "text/plain": [
              "0.1"
            ]
          },
          "metadata": {},
          "execution_count": 43
        }
      ]
    },
    {
      "cell_type": "code",
      "metadata": {
        "id": "xnsCkUb6G3EX",
        "colab": {
          "base_uri": "https://localhost:8080/"
        },
        "outputId": "132422c0-ef36-45d5-dd99-e90d2cbd1cb5"
      },
      "source": [
        "Z = (1.8 - media)/ desviacion_estandar\n",
        "Z\n",
        "# calculamos el valor estandarizado"
      ],
      "execution_count": 46,
      "outputs": [
        {
          "output_type": "execute_result",
          "data": {
            "text/plain": [
              "1.0000000000000009"
            ]
          },
          "metadata": {},
          "execution_count": 46
        }
      ]
    },
    {
      "cell_type": "markdown",
      "metadata": {
        "id": "oj9sgHbkG3Eb"
      },
      "source": [
        "### Solución 1 - Utilizando la tabla"
      ]
    },
    {
      "cell_type": "code",
      "metadata": {
        "id": "ReDTH3WgG3Ec",
        "colab": {
          "base_uri": "https://localhost:8080/"
        },
        "outputId": "abe35850-c87b-4aec-d065-e7c3d244064b"
      },
      "source": [
        "probabilidad = 0.8413\n",
        "probabilidad\n",
        "# A. probabilidad de que una persona, seleccionada al azar, mida menos que 1.80 metros."
      ],
      "execution_count": 49,
      "outputs": [
        {
          "output_type": "execute_result",
          "data": {
            "text/plain": [
              "0.8413"
            ]
          },
          "metadata": {},
          "execution_count": 49
        }
      ]
    },
    {
      "cell_type": "markdown",
      "metadata": {
        "id": "4ud0OnQOG3Eh"
      },
      "source": [
        "### Solución 2 - Utilizando Scipy"
      ]
    },
    {
      "cell_type": "code",
      "metadata": {
        "id": "sx7riZVlG3Ei",
        "colab": {
          "base_uri": "https://localhost:8080/"
        },
        "outputId": "d68dfea9-5327-45aa-8007-e505b07b6de8"
      },
      "source": [
        "# funcion mas sencilla\n",
        "from scipy.stats import norm\n",
        "\n",
        "# Calcula la probabilidad de que una variable aleatoria normal estándar sea menor o igual a Z.\n",
        "# Z es el valor estandarizado que calculamos anteriormente.\n",
        "# La función norm.cdf(Z) devuelve el área bajo la curva normal estándar a la izquierda de Z,\n",
        "# lo que representa la probabilidad de que una observación sea menor o igual a Z.\n",
        "norm.cdf(Z)"
      ],
      "execution_count": 52,
      "outputs": [
        {
          "output_type": "execute_result",
          "data": {
            "text/plain": [
              "np.float64(0.8413447460685431)"
            ]
          },
          "metadata": {},
          "execution_count": 52
        }
      ]
    },
    {
      "cell_type": "markdown",
      "source": [
        "# **EJERCICIO**"
      ],
      "metadata": {
        "id": "M0Tk42V6jqQ3"
      }
    },
    {
      "cell_type": "code",
      "source": [
        "media = 70\n",
        "desviacion_estandar = 5\n",
        "Z = (85 - media) / desviacion_estandar\n",
        "\n",
        "norm.cdf(Z)"
      ],
      "metadata": {
        "colab": {
          "base_uri": "https://localhost:8080/"
        },
        "id": "bCAbGiJwjohi",
        "outputId": "760630c2-a827-48d9-b0ea-568ab7f8a009"
      },
      "execution_count": 57,
      "outputs": [
        {
          "output_type": "execute_result",
          "data": {
            "text/plain": [
              "np.float64(0.9986501019683699)"
            ]
          },
          "metadata": {},
          "execution_count": 57
        }
      ]
    },
    {
      "cell_type": "markdown",
      "metadata": {
        "id": "ZsnMjGzJG3Ep"
      },
      "source": [
        "### Problema B - Identificación del área bajo la curva"
      ]
    },
    {
      "cell_type": "markdown",
      "metadata": {
        "id": "LN2HY-UCG3Ep"
      },
      "source": [
        "<img style='float: left' src='https://caelum-online-public.s3.amazonaws.com/ESP-1764-estadistica-con-python-probabilidad-y-muestreo/img005.png' width='350px'>"
      ]
    },
    {
      "cell_type": "markdown",
      "metadata": {
        "id": "FS6WNg88G3Eq"
      },
      "source": [
        "### Obtener la variable estandarizada $Z$"
      ]
    },
    {
      "cell_type": "code",
      "metadata": {
        "id": "mxPsPIOYG3Er",
        "colab": {
          "base_uri": "https://localhost:8080/"
        },
        "outputId": "22656e2b-f41e-4063-8542-fb19476c1a20"
      },
      "source": [
        "media = 1.70\n",
        "media"
      ],
      "execution_count": 62,
      "outputs": [
        {
          "output_type": "execute_result",
          "data": {
            "text/plain": [
              "1.7"
            ]
          },
          "metadata": {},
          "execution_count": 62
        }
      ]
    },
    {
      "cell_type": "code",
      "metadata": {
        "id": "s0Vf0GXHG3Et",
        "colab": {
          "base_uri": "https://localhost:8080/"
        },
        "outputId": "9c64eb0f-ccb6-449d-b2f5-47db68e4ec3f"
      },
      "source": [
        "desviacion_estandar=0.1\n",
        "desviacion_estandar"
      ],
      "execution_count": 63,
      "outputs": [
        {
          "output_type": "execute_result",
          "data": {
            "text/plain": [
              "0.1"
            ]
          },
          "metadata": {},
          "execution_count": 63
        }
      ]
    },
    {
      "cell_type": "code",
      "source": [
        "# obetenemos el area\n",
        "Z = (1.7 - media) / desviacion_estandar\n",
        "Z"
      ],
      "metadata": {
        "colab": {
          "base_uri": "https://localhost:8080/"
        },
        "id": "gZG3wrPZnXYU",
        "outputId": "af8d0abb-f255-4987-c81d-ff0e59a97330"
      },
      "execution_count": 64,
      "outputs": [
        {
          "output_type": "execute_result",
          "data": {
            "text/plain": [
              "0.0"
            ]
          },
          "metadata": {},
          "execution_count": 64
        }
      ]
    },
    {
      "cell_type": "code",
      "source": [
        "Z = (1.8 - media) / desviacion_estandar\n",
        "Z\n",
        "# obetenemos el area para 1.80"
      ],
      "metadata": {
        "colab": {
          "base_uri": "https://localhost:8080/"
        },
        "id": "AUcm0VgDnk6d",
        "outputId": "0f343a7f-7b75-42bd-cec8-698de0a9b519"
      },
      "execution_count": 65,
      "outputs": [
        {
          "output_type": "execute_result",
          "data": {
            "text/plain": [
              "1.0000000000000009"
            ]
          },
          "metadata": {},
          "execution_count": 65
        }
      ]
    },
    {
      "cell_type": "markdown",
      "metadata": {
        "id": "MseXjmZ7G3E0"
      },
      "source": [
        "### Solución 1 - Utilizando la tabla"
      ]
    },
    {
      "cell_type": "code",
      "metadata": {
        "id": "swZ6SVQGG3E0",
        "colab": {
          "base_uri": "https://localhost:8080/"
        },
        "outputId": "529ad8cb-93d1-4976-e540-f64f9386665c"
      },
      "source": [
        "probabilidad = 0.8413\n",
        "probabilidad"
      ],
      "execution_count": 66,
      "outputs": [
        {
          "output_type": "execute_result",
          "data": {
            "text/plain": [
              "0.8413"
            ]
          },
          "metadata": {},
          "execution_count": 66
        }
      ]
    },
    {
      "cell_type": "code",
      "metadata": {
        "id": "oNfZZRBdGy2G",
        "colab": {
          "base_uri": "https://localhost:8080/"
        },
        "outputId": "f8510322-70bf-4247-8629-2a54d8476b52"
      },
      "source": [
        "probabilidad = (0.8413 - 0.5) * 2\n",
        "probabilidad"
      ],
      "execution_count": 69,
      "outputs": [
        {
          "output_type": "execute_result",
          "data": {
            "text/plain": [
              "0.6826000000000001"
            ]
          },
          "metadata": {},
          "execution_count": 69
        }
      ]
    },
    {
      "cell_type": "markdown",
      "metadata": {
        "id": "y5e4zAifG3E2"
      },
      "source": [
        "### Solución 2 - Utilizando Scipy"
      ]
    },
    {
      "cell_type": "code",
      "source": [
        "# cuando queremos saber la probabilidad entre un intervalo usamos esto\n",
        "Z_superior = (1.8 - media) / desviacion_estandar\n",
        "Z_superior"
      ],
      "metadata": {
        "colab": {
          "base_uri": "https://localhost:8080/"
        },
        "id": "-qcHcStToaOI",
        "outputId": "38e4092f-4e68-4001-c430-03493d93d0bc"
      },
      "execution_count": 71,
      "outputs": [
        {
          "output_type": "execute_result",
          "data": {
            "text/plain": [
              "1.0000000000000009"
            ]
          },
          "metadata": {},
          "execution_count": 71
        }
      ]
    },
    {
      "cell_type": "code",
      "source": [
        "probabilidad_superior = norm.cdf(Z_superior)\n",
        "probabilidad_superior"
      ],
      "metadata": {
        "colab": {
          "base_uri": "https://localhost:8080/"
        },
        "id": "fjzTTthCohVM",
        "outputId": "fff1b0a1-c631-483d-c6ab-9728793927f5"
      },
      "execution_count": 72,
      "outputs": [
        {
          "output_type": "execute_result",
          "data": {
            "text/plain": [
              "np.float64(0.8413447460685431)"
            ]
          },
          "metadata": {},
          "execution_count": 72
        }
      ]
    },
    {
      "cell_type": "code",
      "metadata": {
        "id": "hcps6lkNG3E3",
        "colab": {
          "base_uri": "https://localhost:8080/"
        },
        "outputId": "1b6a5571-f5bc-470c-d84e-ce1be96c4a1b"
      },
      "source": [
        "Z_inferior  = (1.6 - media) / desviacion_estandar\n",
        "Z_inferior\n",
        "# obetenemos el area para 1.80"
      ],
      "execution_count": 73,
      "outputs": [
        {
          "output_type": "execute_result",
          "data": {
            "text/plain": [
              "-0.9999999999999987"
            ]
          },
          "metadata": {},
          "execution_count": 73
        }
      ]
    },
    {
      "cell_type": "code",
      "metadata": {
        "id": "MjEfhnQEG3E5",
        "colab": {
          "base_uri": "https://localhost:8080/"
        },
        "outputId": "f2e64508-07e5-462a-89d4-a2def3e56adf"
      },
      "source": [
        "probabilidad_inferior = norm.cdf(Z_inferior)\n",
        "probabilidad_inferior"
      ],
      "execution_count": 74,
      "outputs": [
        {
          "output_type": "execute_result",
          "data": {
            "text/plain": [
              "np.float64(0.1586552539314574)"
            ]
          },
          "metadata": {},
          "execution_count": 74
        }
      ]
    },
    {
      "cell_type": "code",
      "source": [
        "probabilidad_total = probabilidad_superior - probabilidad_inferior\n",
        "probabilidad_total"
      ],
      "metadata": {
        "colab": {
          "base_uri": "https://localhost:8080/"
        },
        "id": "59gugUPqopJA",
        "outputId": "acf51407-b3ec-400f-a5a2-2957532ca4f8"
      },
      "execution_count": 75,
      "outputs": [
        {
          "output_type": "execute_result",
          "data": {
            "text/plain": [
              "np.float64(0.6826894921370857)"
            ]
          },
          "metadata": {},
          "execution_count": 75
        }
      ]
    },
    {
      "cell_type": "markdown",
      "source": [
        "## **EJERCICIO**"
      ],
      "metadata": {
        "id": "PDQ7O7gwrBXZ"
      }
    },
    {
      "cell_type": "code",
      "source": [
        "media = 300.00\n",
        "desviacion_estandar = 50.00"
      ],
      "metadata": {
        "id": "hC55kJ8wrU06"
      },
      "execution_count": 83,
      "outputs": []
    },
    {
      "cell_type": "code",
      "source": [
        "x_superior = (250.00 - media) / desviacion_estandar\n",
        "x_superior\n"
      ],
      "metadata": {
        "colab": {
          "base_uri": "https://localhost:8080/"
        },
        "id": "craKN1dqrxSy",
        "outputId": "3d200115-f1bf-4bfa-9d8b-296597546ea8"
      },
      "execution_count": 84,
      "outputs": [
        {
          "output_type": "execute_result",
          "data": {
            "text/plain": [
              "-1.0"
            ]
          },
          "metadata": {},
          "execution_count": 84
        }
      ]
    },
    {
      "cell_type": "code",
      "source": [
        "x_inferior = (400.00 - media) / desviacion_estandar\n",
        "x_inferior"
      ],
      "metadata": {
        "colab": {
          "base_uri": "https://localhost:8080/"
        },
        "id": "9xXRhUDurxHD",
        "outputId": "43cb9a79-6518-4683-ed8e-e1cb6db279de"
      },
      "execution_count": 85,
      "outputs": [
        {
          "output_type": "execute_result",
          "data": {
            "text/plain": [
              "2.0"
            ]
          },
          "metadata": {},
          "execution_count": 85
        }
      ]
    },
    {
      "cell_type": "code",
      "source": [
        "probabilidad_superior = norm.cdf(x_superior)\n",
        "# Se imprime el resultado de la probabilidad superior como porcentaje.\n",
        "print(f'La probabilidad superior es: {probabilidad_superior:.2%}')"
      ],
      "metadata": {
        "colab": {
          "base_uri": "https://localhost:8080/"
        },
        "id": "PR9_3f6urvG-",
        "outputId": "c49cd3e6-a6e9-476d-92d6-091c31d87aa8"
      },
      "execution_count": 90,
      "outputs": [
        {
          "output_type": "stream",
          "name": "stdout",
          "text": [
            "La probabilidad superior es: 15.87%\n"
          ]
        }
      ]
    },
    {
      "cell_type": "code",
      "source": [
        "probabilidad_inferior = norm.cdf(x_inferior)\n",
        "# Se imprime el resultado de la probabilidad inferior como porcentaje.\n",
        "print(f'La probabilidad inferior es: {probabilidad_inferior:.2%}')"
      ],
      "metadata": {
        "colab": {
          "base_uri": "https://localhost:8080/"
        },
        "id": "KeMkLLjPr5qP",
        "outputId": "27ed14d6-05a9-4fb5-aa03-f5b74458784b"
      },
      "execution_count": 91,
      "outputs": [
        {
          "output_type": "stream",
          "name": "stdout",
          "text": [
            "La probabilidad inferior es: 97.72%\n"
          ]
        }
      ]
    },
    {
      "cell_type": "code",
      "source": [
        "# Datos del problema\n",
        "media = 300.00\n",
        "desviacion_estandar = 50.00\n",
        "\n",
        "# 1) Probabilidad entre $ 250,00 y $ 350,00\n",
        "\n",
        "# Calcular los valores Z para los límites inferior y superior\n",
        "Z_250 = (250.00 - media) / desviacion_estandar\n",
        "Z_350 = (350.00 - media) / desviacion_estandar\n",
        "\n",
        "# Calcular la probabilidad utilizando la función de distribución acumulada (cdf)\n",
        "probabilidad_entre_250_y_350 = norm.cdf(Z_350) - norm.cdf(Z_250)\n",
        "\n",
        "print(f'La probabilidad de ganar entre $250,00 y $350,00 es: {probabilidad_entre_250_y_350:.2%}')\n",
        "\n",
        "# 2) Probabilidad entre $ 400,00 y $ 500,00\n",
        "\n",
        "# Calcular los valores Z para los límites inferior y superior\n",
        "Z_400 = (400.00 - media) / desviacion_estandar\n",
        "Z_500 = (500.00 - media) / desviacion_estandar\n",
        "\n",
        "# Calcular la probabilidad utilizando la función de distribución acumulada (cdf)\n",
        "probabilidad_entre_400_y_500 = norm.cdf(Z_500) - norm.cdf(Z_400)\n",
        "\n",
        "print(f'La probabilidad de ganar entre $400,00 y $500,00 es: {probabilidad_entre_400_y_500:.2%}')"
      ],
      "metadata": {
        "colab": {
          "base_uri": "https://localhost:8080/"
        },
        "id": "bcsFLjKmsU51",
        "outputId": "2b8009d3-cfc8-4973-8ead-6448d18fb516"
      },
      "execution_count": 92,
      "outputs": [
        {
          "output_type": "stream",
          "name": "stdout",
          "text": [
            "La probabilidad de ganar entre $250,00 y $350,00 es: 68.27%\n",
            "La probabilidad de ganar entre $400,00 y $500,00 es: 2.27%\n"
          ]
        }
      ]
    },
    {
      "cell_type": "markdown",
      "metadata": {
        "id": "05sqVgdaG3E-"
      },
      "source": [
        "### Problema C - Identificación del área bajo la curva"
      ]
    },
    {
      "cell_type": "markdown",
      "metadata": {
        "id": "EPKhGTEkG3E_"
      },
      "source": [
        "<img style='float: left' src='https://caelum-online-public.s3.amazonaws.com/ESP-1764-estadistica-con-python-probabilidad-y-muestreo/img006.png' width='350px'>"
      ]
    },
    {
      "cell_type": "markdown",
      "metadata": {
        "id": "BA6jYbsSG3E_"
      },
      "source": [
        "### Obtener la variable estandarizada $Z$"
      ]
    },
    {
      "cell_type": "code",
      "source": [
        "# primero calculamos desde el limete inferior hata el 1.90 y luego restamos para transformarlo a lo que falta\n",
        "media = 1.70\n",
        "desviacion_estandar=0.1"
      ],
      "metadata": {
        "id": "0A99KFDBszsv"
      },
      "execution_count": 94,
      "outputs": []
    },
    {
      "cell_type": "code",
      "metadata": {
        "id": "3OVj60MzG3E_",
        "colab": {
          "base_uri": "https://localhost:8080/"
        },
        "outputId": "16818cd5-e10e-4e3c-a658-42e8efc435cb"
      },
      "source": [
        "Z = (1.9 - media) / desviacion_estandar\n",
        "Z\n"
      ],
      "execution_count": 95,
      "outputs": [
        {
          "output_type": "execute_result",
          "data": {
            "text/plain": [
              "1.9999999999999996"
            ]
          },
          "metadata": {},
          "execution_count": 95
        }
      ]
    },
    {
      "cell_type": "markdown",
      "metadata": {
        "id": "hCiiWAm_G3FC"
      },
      "source": [
        "### Solución 1 - Utilizando la tabla"
      ]
    },
    {
      "cell_type": "code",
      "metadata": {
        "id": "mSNfoO6VG3FC",
        "colab": {
          "base_uri": "https://localhost:8080/"
        },
        "outputId": "36f2b907-4f22-4297-fec6-836567ae7859"
      },
      "source": [
        "probabilidad = 0.9767\n",
        "# probablidad hasta el 1.90 desde limite inferior hasta el 1.90"
      ],
      "execution_count": 77,
      "outputs": [
        {
          "output_type": "execute_result",
          "data": {
            "text/plain": [
              "np.float64(0.9772498680518208)"
            ]
          },
          "metadata": {},
          "execution_count": 77
        }
      ]
    },
    {
      "cell_type": "code",
      "source": [
        "probabilidad = 1- 0.9767\n",
        "probabilidad\n",
        "# probabilidad"
      ],
      "metadata": {
        "colab": {
          "base_uri": "https://localhost:8080/"
        },
        "id": "g9qZm_mLtSHT",
        "outputId": "7a5ca732-203c-46d1-ce99-e6fb014a0029"
      },
      "execution_count": 96,
      "outputs": [
        {
          "output_type": "execute_result",
          "data": {
            "text/plain": [
              "0.023299999999999987"
            ]
          },
          "metadata": {},
          "execution_count": 96
        }
      ]
    },
    {
      "cell_type": "markdown",
      "metadata": {
        "id": "QCyoVXOdG3FF"
      },
      "source": [
        "### Solución 2 - Utilizando Scipy"
      ]
    },
    {
      "cell_type": "code",
      "metadata": {
        "id": "caIE-t83G3FF",
        "colab": {
          "base_uri": "https://localhost:8080/"
        },
        "outputId": "74b4d35e-0aa6-45bf-f31a-7fd6937decb8"
      },
      "source": [
        "probabilidad = 1 - norm.cdf(Z)\n",
        "probabilidad"
      ],
      "execution_count": 97,
      "outputs": [
        {
          "output_type": "execute_result",
          "data": {
            "text/plain": [
              "np.float64(0.02275013194817921)"
            ]
          },
          "metadata": {},
          "execution_count": 97
        }
      ]
    },
    {
      "cell_type": "code",
      "metadata": {
        "id": "wKjqQGgMG3FI",
        "colab": {
          "base_uri": "https://localhost:8080/"
        },
        "outputId": "be2449d0-9d5c-4f93-b906-6e7f749e74bb"
      },
      "source": [
        "# otra forma de calcularlo\n",
        "norm.cdf(-Z)\n",
        "# me da la forma de arriba de un punto especifico"
      ],
      "execution_count": 99,
      "outputs": [
        {
          "output_type": "execute_result",
          "data": {
            "text/plain": [
              "np.float64(0.022750131948179216)"
            ]
          },
          "metadata": {},
          "execution_count": 99
        }
      ]
    },
    {
      "cell_type": "markdown",
      "source": [
        "## **EJERCICIOS**"
      ],
      "metadata": {
        "id": "eUygNeAEuCic"
      }
    },
    {
      "cell_type": "code",
      "source": [
        "# Datos del problema\n",
        "media = 720\n",
        "desviacion_estandar = 30\n",
        "\n",
        "# 1) Probabilidad entre 650 y 750 días\n",
        "\n",
        "# Calcular los valores Z para los límites inferior y superior\n",
        "Z_650 = (650 - media) / desviacion_estandar\n",
        "Z_750 = (750 - media) / desviacion_estandar\n",
        "\n",
        "# Calcular la probabilidad utilizando la función de distribución acumulada (cdf)\n",
        "probabilidad_entre_650_y_750 = norm.cdf(Z_750) - norm.cdf(Z_650)\n",
        "\n",
        "print(f'La probabilidad de que una lámpara dure entre 650 y 750 días es: {probabilidad_entre_650_y_750:.2%}')\n",
        "\n",
        "# 2) Probabilidad más de 800 días\n",
        "\n",
        "# Calcular el valor Z para 800 días\n",
        "Z_800 = (800 - media) / desviacion_estandar\n",
        "\n",
        "# Calcular la probabilidad utilizando la función de supervivencia (sf)\n",
        "probabilidad_mas_de_800 = norm.sf(Z_800)\n",
        "\n",
        "print(f'La probabilidad de que una lámpara dure más de 800 días es: {probabilidad_mas_de_800:.2%}')\n",
        "\n",
        "# 3) Probabilidad menos de 700 días\n",
        "\n",
        "# Calcular el valor Z para 700 días\n",
        "Z_700 = (700 - media) / desviacion_estandar\n",
        "\n",
        "# Calcular la probabilidad utilizando la función de distribución acumulada (cdf)\n",
        "probabilidad_menos_de_700 = norm.cdf(Z_700)\n",
        "\n",
        "print(f'La probabilidad de que una lámpara dure menos de 700 días es: {probabilidad_menos_de_700:.2%}')"
      ],
      "metadata": {
        "colab": {
          "base_uri": "https://localhost:8080/"
        },
        "id": "cueWWa3uuw4L",
        "outputId": "12cad4e2-8f24-4d43-fd1c-1dfd1dbe168f"
      },
      "execution_count": 101,
      "outputs": [
        {
          "output_type": "stream",
          "name": "stdout",
          "text": [
            "La probabilidad de que una lámpara dure entre 650 y 750 días es: 83.15%\n",
            "La probabilidad de que una lámpara dure más de 800 días es: 0.38%\n",
            "La probabilidad de que una lámpara dure menos de 700 días es: 25.25%\n"
          ]
        }
      ]
    },
    {
      "cell_type": "code",
      "source": [
        "datos = [1.96, 2.15, -0.78, 0.59]\n",
        "datos"
      ],
      "metadata": {
        "colab": {
          "base_uri": "https://localhost:8080/"
        },
        "id": "c7sa_utpu788",
        "outputId": "9c788a42-6e4e-45ca-bc29-bd86852c5248"
      },
      "execution_count": 103,
      "outputs": [
        {
          "output_type": "execute_result",
          "data": {
            "text/plain": [
              "[1.96, 2.15, -0.78, 0.59]"
            ]
          },
          "metadata": {},
          "execution_count": 103
        }
      ]
    },
    {
      "cell_type": "code",
      "source": [
        "for i in datos:\n",
        "    print(norm.cdf(i))\n"
      ],
      "metadata": {
        "colab": {
          "base_uri": "https://localhost:8080/"
        },
        "id": "1REc0JHavMS1",
        "outputId": "8b6a30c9-2bb9-4672-a514-226d8f781458"
      },
      "execution_count": 105,
      "outputs": [
        {
          "output_type": "stream",
          "name": "stdout",
          "text": [
            "0.9750021048517795\n",
            "0.9842223926089095\n",
            "0.21769543758573312\n",
            "0.7224046752465351\n"
          ]
        }
      ]
    },
    {
      "cell_type": "code",
      "source": [
        "from scipy.stats import norm\n",
        "\n",
        "# Item A\n",
        "probabilidad = norm.cdf(1.96)\n",
        "print(f'{probabilidad:0.4f}')\n",
        "\n",
        "# Item B\n",
        "probabilidad = 1 - norm.cdf(2.15)\n",
        "# o -> probabilidad = norm.sf(2.15)\n",
        "print(f'{probabilidad:0.4f}')\n",
        "\n",
        "# Item C\n",
        "probabilidad = norm.cdf(-0.78)\n",
        "print(f'{probabilidad:0.4f}')\n",
        "\n",
        "# Item D\n",
        "probabilidad = 1 - norm.cdf(0.59)\n",
        "# o -> probabilidad = norm.sf(0.59)\n",
        "print(f'{probabilidad:0.4f}')"
      ],
      "metadata": {
        "colab": {
          "base_uri": "https://localhost:8080/"
        },
        "id": "-HoUTarYvh9T",
        "outputId": "e12a8fa6-24c3-46e7-f45c-c701a501b5a8"
      },
      "execution_count": 106,
      "outputs": [
        {
          "output_type": "stream",
          "name": "stdout",
          "text": [
            "0.9750\n",
            "0.0158\n",
            "0.2177\n",
            "0.2776\n"
          ]
        }
      ]
    },
    {
      "cell_type": "markdown",
      "metadata": {
        "id": "GmmzChE2t4wW"
      },
      "source": [
        "# <font color=green>3 MUESTREO</font>\n",
        "***"
      ]
    },
    {
      "cell_type": "markdown",
      "metadata": {
        "id": "g8PbtmQZt4Wv"
      },
      "source": [
        "## <font color=green>3.1 Población y Muestra</font>\n",
        "***"
      ]
    },
    {
      "cell_type": "markdown",
      "metadata": {
        "id": "sedD5gB9G3FV"
      },
      "source": [
        "### Población\n",
        "Conjunto de todos los elementos de interés de un estudio. Varios elementos pueden componer una población, por ejemplo: personas, edades, alturas, automóviles, etc.\n",
        "\n",
        "En cuanto al tamaño, las poblaciones pueden ser limitadas (poblaciones finitas) o ilimitadas (poblaciones infinitas)."
      ]
    },
    {
      "cell_type": "markdown",
      "metadata": {
        "id": "XBFhAWNcG3FW"
      },
      "source": [
        "### Poblaciones finitas\n",
        "\n",
        "Permiten el recuento de sus elementos. Los ejemplos incluyen el número de empleados en una empresa, el número de estudiantes en una escuela, etc."
      ]
    },
    {
      "cell_type": "markdown",
      "metadata": {
        "id": "YT8V2GB1G3FW"
      },
      "source": [
        "### Poblaciones infinitas\n",
        "\n",
        "No es posible contar sus elementos. Como ejemplos tenemos el número de porciones que se pueden extraer del agua del mar para su análisis, la temperatura medida en cada punto de un territorio, etc.\n",
        "\n",
        "<font color=red>Cuando se pueden contar los elementos de una población, pero presentando una cantidad muy grande, se supone que la población es infinita.</font>"
      ]
    },
    {
      "cell_type": "markdown",
      "metadata": {
        "id": "a-WtAXv1G3FX"
      },
      "source": [
        "### Muestra\n",
        "Subconjunto representativo de la población."
      ]
    },
    {
      "cell_type": "markdown",
      "metadata": {
        "id": "QWnDYpPSG3FX"
      },
      "source": [
        "Los atributos numéricos de una población, como su media, varianza y desviación estándar, se conocen como **parámetros**. El enfoque principal de la inferencia estadística es precisamente generar estimaciones y probar hipótesis sobre parámetros poblacionales utilizando información de la muestra."
      ]
    },
    {
      "cell_type": "markdown",
      "metadata": {
        "id": "dDz6vFbDG3FZ"
      },
      "source": [
        "## <font color=green>3.2 ¿Cuándo usar una muestra?</font>\n",
        "***"
      ]
    },
    {
      "cell_type": "markdown",
      "metadata": {
        "id": "5X1YwCGlG3Fe"
      },
      "source": [
        "### Poblaciones infinitas\n",
        "\n",
        "El estudio nunca llegaría a su fin. No es posible investigar todos los elementos de la población."
      ]
    },
    {
      "cell_type": "markdown",
      "metadata": {
        "id": "jHLtG8HSG3Ff"
      },
      "source": [
        "### Pruebas destructivas\n",
        "\n",
        "Estudios donde los elementos evaluados son totalmente consumidos o destruidos. Ejemplo: pruebas de vida útil, pruebas de seguridad en accidentes de tráfico."
      ]
    },
    {
      "cell_type": "markdown",
      "metadata": {
        "id": "lxYxepmdG3Ff"
      },
      "source": [
        "### Resultados rápidos\n",
        "\n",
        "Investigaciones que necesitan más agilidad en la difusión. Ejemplo: encuestas de opinión, encuestas sobre problemas de salud pública."
      ]
    },
    {
      "cell_type": "markdown",
      "metadata": {
        "id": "PeUCGL5nG3Fj"
      },
      "source": [
        "### Altos precios\n",
        "\n",
        "Cuando la población es finita pero muy grande, el costo de un censo puede hacer inviable el proceso."
      ]
    },
    {
      "cell_type": "markdown",
      "metadata": {
        "id": "1sbJeMpSG3Fj"
      },
      "source": [
        "## <font color=green>3.3 Muestreo Aleatorio Simple</font>\n",
        "***"
      ]
    },
    {
      "cell_type": "markdown",
      "metadata": {
        "id": "Kiq9cYMYG3Fp"
      },
      "source": [
        "Es una de las principales formas de extraer una muestra de una población. El requisito fundamental de este tipo de enfoque es que cada elemento de la población tenga las mismas posibilidades de ser seleccionado para formar parte de la muestra."
      ]
    },
    {
      "cell_type": "code",
      "metadata": {
        "id": "NtQ8HOYdG3Fq",
        "colab": {
          "base_uri": "https://localhost:8080/"
        },
        "outputId": "0843342d-625c-4179-a6be-63b0f0c7d519"
      },
      "source": [
        "# Volvemos a cargar el DataFrame datos, ya que la variable fue sobreescrita más adelante en el notebook\n",
        "datos = pd.read_csv('/content/datos.csv', encoding='latin1')\n",
        "datos.shape[0]\n",
        "# observamos el tamaño total de filas que tiene el banco de datos"
      ],
      "execution_count": 110,
      "outputs": [
        {
          "output_type": "execute_result",
          "data": {
            "text/plain": [
              "76840"
            ]
          },
          "metadata": {},
          "execution_count": 110
        }
      ]
    },
    {
      "cell_type": "code",
      "metadata": {
        "id": "DsXJHWhMG3Fs",
        "colab": {
          "base_uri": "https://localhost:8080/"
        },
        "outputId": "f1d93ae9-86d3-43b2-c849-040acf0e93fe"
      },
      "source": [
        "datos.Ingreso.mean()\n",
        "# calculamos la media de ingreso"
      ],
      "execution_count": 111,
      "outputs": [
        {
          "output_type": "execute_result",
          "data": {
            "text/plain": [
              "np.float64(2000.3831988547631)"
            ]
          },
          "metadata": {},
          "execution_count": 111
        }
      ]
    },
    {
      "cell_type": "code",
      "metadata": {
        "id": "k7yJucVMG3Fw",
        "colab": {
          "base_uri": "https://localhost:8080/"
        },
        "outputId": "eff40627-da3d-4aa2-88fb-c72d2070e652"
      },
      "source": [
        "muestra = datos.sample(n = 1000, random_state= 101)\n",
        "muestra.shape[0]\n",
        "# selecionamos nuestra muestra, en esete caso la cantidad y dar una semilla para reproducir mismos datos"
      ],
      "execution_count": 120,
      "outputs": [
        {
          "output_type": "execute_result",
          "data": {
            "text/plain": [
              "1000"
            ]
          },
          "metadata": {},
          "execution_count": 120
        }
      ]
    },
    {
      "cell_type": "code",
      "source": [
        "muestra.Ingreso.mean()\n",
        "# obtenemos otra media, tenemos diferencia en la original"
      ],
      "metadata": {
        "colab": {
          "base_uri": "https://localhost:8080/"
        },
        "id": "AI533ChLzBxd",
        "outputId": "e78d4b4d-3a7b-49a8-e005-c797b05c704e"
      },
      "execution_count": 121,
      "outputs": [
        {
          "output_type": "execute_result",
          "data": {
            "text/plain": [
              "np.float64(1998.783)"
            ]
          },
          "metadata": {},
          "execution_count": 121
        }
      ]
    },
    {
      "cell_type": "code",
      "metadata": {
        "id": "wUyXS65sG3F2",
        "colab": {
          "base_uri": "https://localhost:8080/",
          "height": 178
        },
        "outputId": "537cb84b-4c6b-4fb3-e8ba-2815964b1ff9"
      },
      "source": [
        "# Debemos selecionarlar los datos represenattivos y asegurarnos de eso\n",
        "datos.Sexo.value_counts(normalize=True) * 100\n"
      ],
      "execution_count": 122,
      "outputs": [
        {
          "output_type": "execute_result",
          "data": {
            "text/plain": [
              "Sexo\n",
              "0    69.299844\n",
              "1    30.700156\n",
              "Name: proportion, dtype: float64"
            ],
            "text/html": [
              "<div>\n",
              "<style scoped>\n",
              "    .dataframe tbody tr th:only-of-type {\n",
              "        vertical-align: middle;\n",
              "    }\n",
              "\n",
              "    .dataframe tbody tr th {\n",
              "        vertical-align: top;\n",
              "    }\n",
              "\n",
              "    .dataframe thead th {\n",
              "        text-align: right;\n",
              "    }\n",
              "</style>\n",
              "<table border=\"1\" class=\"dataframe\">\n",
              "  <thead>\n",
              "    <tr style=\"text-align: right;\">\n",
              "      <th></th>\n",
              "      <th>proportion</th>\n",
              "    </tr>\n",
              "    <tr>\n",
              "      <th>Sexo</th>\n",
              "      <th></th>\n",
              "    </tr>\n",
              "  </thead>\n",
              "  <tbody>\n",
              "    <tr>\n",
              "      <th>0</th>\n",
              "      <td>69.299844</td>\n",
              "    </tr>\n",
              "    <tr>\n",
              "      <th>1</th>\n",
              "      <td>30.700156</td>\n",
              "    </tr>\n",
              "  </tbody>\n",
              "</table>\n",
              "</div><br><label><b>dtype:</b> float64</label>"
            ]
          },
          "metadata": {},
          "execution_count": 122
        }
      ]
    },
    {
      "cell_type": "code",
      "metadata": {
        "id": "y0J4UtOwG3F5",
        "colab": {
          "base_uri": "https://localhost:8080/",
          "height": 178
        },
        "outputId": "b835219b-5ee3-4ddc-ba31-73cbcecfb725"
      },
      "source": [
        "muestra.Sexo.value_counts(normalize=True) * 100\n",
        "# cuando se seleciona un variable o muestra aletorio se crea un margen de error deñ 0.5 %"
      ],
      "execution_count": 124,
      "outputs": [
        {
          "output_type": "execute_result",
          "data": {
            "text/plain": [
              "Sexo\n",
              "0    70.6\n",
              "1    29.4\n",
              "Name: proportion, dtype: float64"
            ],
            "text/html": [
              "<div>\n",
              "<style scoped>\n",
              "    .dataframe tbody tr th:only-of-type {\n",
              "        vertical-align: middle;\n",
              "    }\n",
              "\n",
              "    .dataframe tbody tr th {\n",
              "        vertical-align: top;\n",
              "    }\n",
              "\n",
              "    .dataframe thead th {\n",
              "        text-align: right;\n",
              "    }\n",
              "</style>\n",
              "<table border=\"1\" class=\"dataframe\">\n",
              "  <thead>\n",
              "    <tr style=\"text-align: right;\">\n",
              "      <th></th>\n",
              "      <th>proportion</th>\n",
              "    </tr>\n",
              "    <tr>\n",
              "      <th>Sexo</th>\n",
              "      <th></th>\n",
              "    </tr>\n",
              "  </thead>\n",
              "  <tbody>\n",
              "    <tr>\n",
              "      <th>0</th>\n",
              "      <td>70.6</td>\n",
              "    </tr>\n",
              "    <tr>\n",
              "      <th>1</th>\n",
              "      <td>29.4</td>\n",
              "    </tr>\n",
              "  </tbody>\n",
              "</table>\n",
              "</div><br><label><b>dtype:</b> float64</label>"
            ]
          },
          "metadata": {},
          "execution_count": 124
        }
      ]
    },
    {
      "cell_type": "markdown",
      "metadata": {
        "id": "stcKhnJBG3F7"
      },
      "source": [
        "## <font color=green>3.4 Muestreo Estratificado</font>\n",
        "***"
      ]
    },
    {
      "cell_type": "markdown",
      "metadata": {
        "id": "W1uEZMRIG3GA"
      },
      "source": [
        "Es una mejora del proceso de muestreo aleatorio simple. En este método, se propone dividir la población en subgrupos de elementos con características similares, es decir, grupos más homogéneos. Con estos subgrupos separados, la técnica de muestreo aleatorio simple dentro de cada subgrupo se aplica individualmente."
      ]
    },
    {
      "cell_type": "code",
      "source": [
        "# Realizando muestreo estratificado por la columna 'Sexo'\n",
        "# Se agrupa el DataFrame 'datos' por la columna 'Sexo'\n",
        "# Se aplica una función lambda a cada grupo:\n",
        "#   - Se toma una muestra aleatoria (sample) del grupo.\n",
        "#   - La fracción (frac) del grupo que se toma como muestra es 0.1 (10%).\n",
        "#   - random_state=101 asegura que la muestra sea reproducible.\n",
        "# Se concatena verticalmente (axis=0) las muestras obtenidas de cada grupo para formar la muestra estratificada final.\n",
        "muestra_estratificada = datos.groupby('Sexo').apply(lambda x: x.sample(frac=0.1, random_state=101))\n",
        "\n",
        "# Mostrar el tamaño de la muestra estratificada\n",
        "print(\"Tamaño de la muestra estratificada:\")\n",
        "print(muestra_estratificada.shape[0])\n",
        "\n",
        "# Mostrar la distribución de la variable 'Sexo' en la muestra estratificada\n",
        "print(\"\\nDistribución de 'Sexo' en la muestra estratificada:\")\n",
        "print(muestra_estratificada.Sexo.value_counts(normalize=True) * 100)\n",
        "\n",
        "# Mostrar la distribución de la variable 'Sexo' en la población original para comparar\n",
        "print(\"\\nDistribución de 'Sexo' en la población original:\")\n",
        "print(datos.Sexo.value_counts(normalize=True) * 100)"
      ],
      "metadata": {
        "colab": {
          "base_uri": "https://localhost:8080/"
        },
        "id": "axw0z2Ym0igA",
        "outputId": "a72c9d19-64a0-42ec-e723-d970275b8b1c"
      },
      "execution_count": 125,
      "outputs": [
        {
          "output_type": "stream",
          "name": "stdout",
          "text": [
            "Tamaño de la muestra estratificada:\n",
            "7684\n",
            "\n",
            "Distribución de 'Sexo' en la muestra estratificada:\n",
            "Sexo\n",
            "0    69.299844\n",
            "1    30.700156\n",
            "Name: proportion, dtype: float64\n",
            "\n",
            "Distribución de 'Sexo' en la población original:\n",
            "Sexo\n",
            "0    69.299844\n",
            "1    30.700156\n",
            "Name: proportion, dtype: float64\n"
          ]
        },
        {
          "output_type": "stream",
          "name": "stderr",
          "text": [
            "/tmp/ipython-input-62018710.py:8: DeprecationWarning: DataFrameGroupBy.apply operated on the grouping columns. This behavior is deprecated, and in a future version of pandas the grouping columns will be excluded from the operation. Either pass `include_groups=False` to exclude the groupings or explicitly select the grouping columns after groupby to silence this warning.\n",
            "  muestra_estratificada = datos.groupby('Sexo').apply(lambda x: x.sample(frac=0.1, random_state=101))\n"
          ]
        }
      ]
    },
    {
      "cell_type": "markdown",
      "metadata": {
        "id": "xRjUHDAbG3GB"
      },
      "source": [
        "## <font color=green>3.5 Muestreo por Conglomerados</font>\n",
        "***"
      ]
    },
    {
      "cell_type": "markdown",
      "metadata": {
        "id": "sW9IuaL9G3GH"
      },
      "source": [
        "También tiene como objetivo mejorar el criterio de muestreo aleatorio simple. En el muestreo por conglomerados también se crean subgrupos, pero no serán homogéneos como en el muestreo estratificado. En el muestreo por conglomerados los subgrupos serán heterogéneos, donde luego se aplicará un muestreo aleatorio simple o estratificado.\n",
        "\n",
        "Un ejemplo muy común de la aplicación de este tipo de técnica es la división de la población en grupos territoriales, donde los elementos investigados tendrán características bastante variadas."
      ]
    },
    {
      "cell_type": "code",
      "source": [
        "# Realizando muestreo por conglomerados por la columna 'Ciudad'\n",
        "\n",
        "# 1. Identificar los conglomerados (ciudades)\n",
        "conglomerados = datos['Ciudad'].unique()\n",
        "\n",
        "# 2. Seleccionar aleatoriamente un número de conglomerados\n",
        "# En este ejemplo, seleccionaremos 5 ciudades al azar\n",
        "num_conglomerados_a_seleccionar = 5\n",
        "conglomerados_seleccionados = np.random.choice(conglomerados, num_conglomerados_a_seleccionar, replace=False)\n",
        "\n",
        "# 3. Filtrar el DataFrame original para incluir solo los datos de los conglomerados seleccionados\n",
        "muestra_conglomerados = datos[datos['Ciudad'].isin(conglomerados_seleccionados)]\n",
        "\n",
        "# Mostrar el tamaño de la muestra por conglomerados\n",
        "print(\"Tamaño de la muestra por conglomerados:\")\n",
        "print(muestra_conglomerados.shape[0])\n",
        "\n",
        "# Mostrar la distribución de la variable 'Ciudad' en la muestra por conglomerados\n",
        "print(\"\\nDistribución de 'Ciudad' en la muestra por conglomerados:\")\n",
        "print(muestra_conglomerados['Ciudad'].value_counts(normalize=True) * 100)\n",
        "\n",
        "# Mostrar la distribución de la variable 'Ciudad' en la población original para comparar (opcional)\n",
        "print(\"\\nDistribución de 'Ciudad' en la población original:\")\n",
        "print(datos['Ciudad'].value_counts(normalize=True) * 100)"
      ],
      "metadata": {
        "colab": {
          "base_uri": "https://localhost:8080/"
        },
        "id": "4WlJI0QN0tjC",
        "outputId": "da1a5318-a6ab-44c7-8342-e673f698febe"
      },
      "execution_count": 126,
      "outputs": [
        {
          "output_type": "stream",
          "name": "stdout",
          "text": [
            "Tamaño de la muestra por conglomerados:\n",
            "14520\n",
            "\n",
            "Distribución de 'Ciudad' en la muestra por conglomerados:\n",
            "Ciudad\n",
            "43    43.539945\n",
            "23    23.133609\n",
            "53    14.146006\n",
            "32    10.406336\n",
            "25     8.774105\n",
            "Name: proportion, dtype: float64\n",
            "\n",
            "Distribución de 'Ciudad' en la población original:\n",
            "Ciudad\n",
            "35    11.119209\n",
            "31    10.002603\n",
            "43     8.227486\n",
            "29     7.440135\n",
            "33     7.230609\n",
            "15     5.789953\n",
            "41     5.668922\n",
            "26     4.971369\n",
            "52     4.526288\n",
            "23     4.371421\n",
            "42     2.960698\n",
            "13     2.870901\n",
            "53     2.673087\n",
            "51     2.342530\n",
            "21     2.325612\n",
            "11     2.000260\n",
            "32     1.966424\n",
            "50     1.874024\n",
            "17     1.699636\n",
            "28     1.674909\n",
            "25     1.657991\n",
            "22     1.576002\n",
            "24     1.266268\n",
            "12     1.219417\n",
            "27     1.175169\n",
            "14     0.702759\n",
            "16     0.666320\n",
            "Name: proportion, dtype: float64\n"
          ]
        }
      ]
    },
    {
      "cell_type": "markdown",
      "metadata": {
        "id": "2LNJT4FEuzO4"
      },
      "source": [
        "# <font color=green>4 ESTIMACIÓN</font>\n",
        "***"
      ]
    },
    {
      "cell_type": "markdown",
      "metadata": {
        "id": "z69W2sVGmybS"
      },
      "source": [
        "## <font color='red'>Problema </font>"
      ]
    },
    {
      "cell_type": "markdown",
      "metadata": {
        "id": "ytP6VpismwDY"
      },
      "source": [
        "Suponga que los pesos de las bolsas de arroz de una industria alimentaria se distribuyen aproximadamente como una distribución normal **desviación estándar igual a 150 g**. Se seleccionó una **muestra aleatoria de 20 bolsas** de un lote específico, se obtuvo un **peso promedio de 5.050 g**. Construya un **intervalo de confianza para la media de la población** asumiendo un **nivel de significancia del 5%**."
      ]
    },
    {
      "cell_type": "markdown",
      "metadata": {
        "id": "PCqEvJMOwvUf"
      },
      "source": [
        "---"
      ]
    },
    {
      "cell_type": "markdown",
      "metadata": {
        "id": "HU578SXBG3GN"
      },
      "source": [
        "Es la forma de hacer suposiciones generalizadas sobre los parámetros de una población a partir de información de una muestra.\n",
        "\n",
        "- **Los parámetros** son los atributos numéricos de una población, como la media, la desviación estándar, etc.\n",
        "\n",
        "- **Estimación** es el valor obtenido para un parámetro dado a partir de los datos de una muestra de la población."
      ]
    },
    {
      "cell_type": "markdown",
      "metadata": {
        "id": "klWVkoUDG3GR"
      },
      "source": [
        "## <font color=green>4.1 Teorema central del límite</font>\n",
        "***"
      ]
    },
    {
      "cell_type": "markdown",
      "metadata": {
        "id": "QpgTvbISG3GU"
      },
      "source": [
        "> El **Teorema Central del Límite** establece que, con el aumento del tamaño de la muestra, la distribución de las medias muestrales se aproxima a una distribución normal con media igual a la media de la población y una desviación estándar igual a la desviación estándar de la variable original dividida por la raíz cuadrada del tamaño de la muestra. Este hecho está asegurado para $n$ mayores o iguales a 30."
      ]
    },
    {
      "cell_type": "markdown",
      "metadata": {
        "id": "ZIAr6is3wEMp"
      },
      "source": [
        "# $$\\sigma_\\bar{x} = \\frac{\\sigma}{\\sqrt{n}}$$\n",
        "\n",
        "La desviación estándar de las medias muestrales se conoce como **error estándar de la media**"
      ]
    },
    {
      "cell_type": "markdown",
      "metadata": {
        "id": "eFtSo6H0iz7z"
      },
      "source": [
        "### Entendiendo el Teorema Central del Límite"
      ]
    },
    {
      "cell_type": "code",
      "metadata": {
        "id": "S3q73XpnizTi"
      },
      "source": [],
      "execution_count": null,
      "outputs": []
    },
    {
      "cell_type": "code",
      "metadata": {
        "id": "uXZvARZ0izQp"
      },
      "source": [],
      "execution_count": null,
      "outputs": []
    },
    {
      "cell_type": "code",
      "metadata": {
        "id": "tXa7XKhKTyMu",
        "scrolled": true
      },
      "source": [],
      "execution_count": null,
      "outputs": []
    },
    {
      "cell_type": "code",
      "metadata": {
        "id": "v5Q-rnS_izNd",
        "scrolled": true
      },
      "source": [],
      "execution_count": null,
      "outputs": []
    },
    {
      "cell_type": "markdown",
      "metadata": {
        "id": "JfgEBDx0jDzf"
      },
      "source": [
        "> El **Teorema Central del Límite** establece que, con el aumento del tamaño de la muestra, la distribución de las medias muestrales se aproxima a una distribución normal con media igual a la media de la población y una desviación estándar igual a la desviación estándar de la variable original dividida por la raíz cuadrada del tamaño de la muestra. Este hecho está asegurado para $n$ mayores o iguales a 30."
      ]
    },
    {
      "cell_type": "code",
      "metadata": {
        "id": "NBPGDBJ3VeBw"
      },
      "source": [],
      "execution_count": null,
      "outputs": []
    },
    {
      "cell_type": "markdown",
      "metadata": {
        "id": "_A4RKStwjkLI"
      },
      "source": [
        "> El **Teorema Central del Límite** establece que, con el aumento del tamaño de la muestra, la distribución de las medias muestrales se aproxima a una distribución normal con media igual a la media de la población y una desviación estándar igual a la desviación estándar de la variable original dividida por la raíz cuadrada del tamaño de la muestra. Este hecho está asegurado para $n$ mayores o iguales a 30."
      ]
    },
    {
      "cell_type": "code",
      "metadata": {
        "id": "vXE-UOj_izGZ"
      },
      "source": [],
      "execution_count": null,
      "outputs": []
    },
    {
      "cell_type": "code",
      "metadata": {
        "id": "bahA7_WYizC6"
      },
      "source": [],
      "execution_count": null,
      "outputs": []
    },
    {
      "cell_type": "markdown",
      "metadata": {
        "id": "7lIWJCAKlPmA"
      },
      "source": [
        "> El **Teorema Central del Límite** establece que, con el aumento del tamaño de la muestra, la distribución de las medias muestrales se aproxima a una distribución normal con media igual a la media de la población y una desviación estándar igual a la desviación estándar de la variable original dividida por la raíz cuadrada del tamaño de la muestra. Este hecho está asegurado para $n$ mayores o iguales a 30.\n",
        "\n",
        "# $$\\sigma_\\bar{x} = \\frac{\\sigma}{\\sqrt{n}}$$"
      ]
    },
    {
      "cell_type": "code",
      "metadata": {
        "id": "qKrG0zqhVNzn"
      },
      "source": [],
      "execution_count": null,
      "outputs": []
    },
    {
      "cell_type": "code",
      "metadata": {
        "id": "83ILp8Quiy_W"
      },
      "source": [],
      "execution_count": null,
      "outputs": []
    },
    {
      "cell_type": "code",
      "metadata": {
        "id": "IQ7wC-Nkiy75"
      },
      "source": [],
      "execution_count": null,
      "outputs": []
    },
    {
      "cell_type": "markdown",
      "metadata": {
        "id": "ku8CE67iG3Ge"
      },
      "source": [
        "## <font color=green>4.2 Los niveles de confianza y significación</font>\n",
        "***"
      ]
    },
    {
      "cell_type": "markdown",
      "metadata": {
        "id": "mk6ZsvgyG3Gf"
      },
      "source": [
        "El **nivel de confianza** ($1 - \\alpha$) representa la probabilidad de que la estimación sea correcta. Además, el **nivel de significancia** ($\\alpha$) expresa la probabilidad de error de la estimación.\n",
        "\n",
        "El **nivel de confianza** representa el grado de confiabilidad del resultado estimado dentro de un cierto rango. Cuando establecemos un **nivel de confianza del 95%** en una encuesta, por ejemplo, estamos asumiendo que existe una probabilidad del 95% de que los resultados de la encuesta representen bien la realidad, es decir, sean correctos.\n",
        "\n",
        "El **nivel de confianza** de una estimación se puede obtener del área bajo la curva normal como se muestra en la figura siguiente."
      ]
    },
    {
      "cell_type": "markdown",
      "metadata": {
        "id": "WeGyDfvaG3Gg"
      },
      "source": [
        "<img src='https://caelum-online-public.s3.amazonaws.com/ESP-1764-estadistica-con-python-probabilidad-y-muestreo/img007.png' width='450px'>\n"
      ]
    },
    {
      "cell_type": "markdown",
      "metadata": {
        "id": "AN8WDZ-HG3Gi"
      },
      "source": [
        "## <font color=green>4.3 Error inferencial</font>\n",
        "***"
      ]
    },
    {
      "cell_type": "markdown",
      "metadata": {
        "id": "tk-TwhhfG3Gi"
      },
      "source": [
        "El **error inferencial** se define por la **desviación estándar de las medias muestrales** $\\sigma_\\bar{x}$ y por el **nivel de confianza** determinado para el proceso."
      ]
    },
    {
      "cell_type": "markdown",
      "metadata": {
        "id": "FKOQUPYHG3Gk"
      },
      "source": [
        "# $$e = z \\frac{\\sigma}{\\sqrt{n}}$$"
      ]
    },
    {
      "cell_type": "markdown",
      "metadata": {
        "id": "ELbWQW4sG3HS"
      },
      "source": [
        "## <font color=green>4.4 Intervalos de confianza</font>\n",
        "***"
      ]
    },
    {
      "cell_type": "markdown",
      "metadata": {
        "id": "-r6EMnH-G3HT"
      },
      "source": [
        "### Intervalo de confianza para la media poblacional"
      ]
    },
    {
      "cell_type": "markdown",
      "metadata": {
        "id": "QWgBFeRnG3HT"
      },
      "source": [
        "#### Con desviación estándar poblacional conocida\n",
        "\n",
        "## $$\\mu = \\bar{x} \\pm z\\frac{\\sigma}{\\sqrt{n}}$$\n",
        "\n",
        "#### Con desviación estándar de población desconocida\n",
        "\n",
        "## $$\\mu = \\bar{x} \\pm z\\frac{s}{\\sqrt{n}}$$"
      ]
    },
    {
      "cell_type": "markdown",
      "metadata": {
        "id": "R2qqLneeG3HT"
      },
      "source": [
        "## <font color='blue'>Ejemplo: </font>"
      ]
    },
    {
      "cell_type": "markdown",
      "metadata": {
        "id": "AgnrFjdMG3HT"
      },
      "source": [
        "Suponga que los pesos de las bolsas de arroz de una industria alimentaria se distribuyen aproximadamente como una población normal con **desviación estándar igual a 150 g**. Se seleccionó una **muestra aleatoria de 20 bolsas** de un lote específico, se obtuvo un **peso promedio de 5.050 g**. Construya un intervalo de confianza para el **promedio de la población** asumiendo un **nivel de significancia del 5%**."
      ]
    },
    {
      "cell_type": "markdown",
      "metadata": {
        "id": "LpGQGksTG3HU"
      },
      "source": [
        "### Media muestral"
      ]
    },
    {
      "cell_type": "code",
      "metadata": {
        "id": "aF2QQ0z3G3HU"
      },
      "source": [],
      "execution_count": null,
      "outputs": []
    },
    {
      "cell_type": "markdown",
      "metadata": {
        "id": "Jly1bVP9G3HY"
      },
      "source": [
        "### Nivel de significancia ($\\alpha$)"
      ]
    },
    {
      "cell_type": "code",
      "metadata": {
        "id": "BzIgN3C7G3HY"
      },
      "source": [],
      "execution_count": null,
      "outputs": []
    },
    {
      "cell_type": "markdown",
      "metadata": {
        "id": "SrZAbQRKG3Ha"
      },
      "source": [
        "### Nivel de confianza ($1 - \\alpha$)"
      ]
    },
    {
      "cell_type": "code",
      "metadata": {
        "id": "1JeWXwA6G3Ha"
      },
      "source": [],
      "execution_count": null,
      "outputs": []
    },
    {
      "cell_type": "markdown",
      "metadata": {
        "id": "mZoUFr1nG3Hf"
      },
      "source": [
        "### Obteniendo $z$"
      ]
    },
    {
      "cell_type": "code",
      "metadata": {
        "id": "f9IMOwY2Xeva"
      },
      "source": [],
      "execution_count": null,
      "outputs": []
    },
    {
      "cell_type": "markdown",
      "metadata": {
        "id": "rMRmnaNPG3Go"
      },
      "source": [
        "### Obteniendo $z$"
      ]
    },
    {
      "cell_type": "markdown",
      "metadata": {
        "id": "T-3mV1qlUj1t"
      },
      "source": [
        "<img src='https://caelum-online-public.s3.amazonaws.com/ESP-1764-estadistica-con-python-probabilidad-y-muestreo/img008.png' width='450px'>"
      ]
    },
    {
      "cell_type": "code",
      "metadata": {
        "id": "nT5ZTwjOG3Go"
      },
      "source": [],
      "execution_count": null,
      "outputs": []
    },
    {
      "cell_type": "code",
      "metadata": {
        "id": "vMjck-3ZU_sz"
      },
      "source": [],
      "execution_count": null,
      "outputs": []
    },
    {
      "cell_type": "code",
      "metadata": {
        "id": "L4CMGZ3oVHLX"
      },
      "source": [],
      "execution_count": null,
      "outputs": []
    },
    {
      "cell_type": "code",
      "metadata": {
        "id": "JJS6Z-85G3Hf"
      },
      "source": [],
      "execution_count": null,
      "outputs": []
    },
    {
      "cell_type": "markdown",
      "metadata": {
        "id": "ggXXP8QqTyNA"
      },
      "source": [
        "### Valores de $z$ para los niveles de confianza más utilizados\n",
        "\n",
        "|Nivel de<br>confianza|Valor del área bajo<br>la curva normal| $z$ |\n",
        "|:----------------:|:---------------------------------:|:---:|\n",
        "|90%               |0.95                               |1.645|\n",
        "|95%               |0.975                              |1.96 |\n",
        "|99%               |0.995                              |2.575|"
      ]
    },
    {
      "cell_type": "markdown",
      "metadata": {
        "id": "MfE1ru0AG3Hg"
      },
      "source": [
        "### Obteniendo $\\sigma_\\bar{x}$"
      ]
    },
    {
      "cell_type": "code",
      "metadata": {
        "id": "LyQ6UUYtG3Hh"
      },
      "source": [],
      "execution_count": null,
      "outputs": []
    },
    {
      "cell_type": "code",
      "metadata": {
        "id": "ebvikT95G3Hi"
      },
      "source": [],
      "execution_count": null,
      "outputs": []
    },
    {
      "cell_type": "code",
      "metadata": {
        "id": "TxM3yTpjG3Hk"
      },
      "source": [],
      "execution_count": null,
      "outputs": []
    },
    {
      "cell_type": "code",
      "metadata": {
        "id": "HNAcOpl0G3Hl"
      },
      "source": [],
      "execution_count": null,
      "outputs": []
    },
    {
      "cell_type": "markdown",
      "metadata": {
        "id": "NHbXlLk-G3Hn"
      },
      "source": [
        "### Obteniendo $e$"
      ]
    },
    {
      "cell_type": "code",
      "metadata": {
        "id": "gAfakih5G3Ho"
      },
      "source": [],
      "execution_count": null,
      "outputs": []
    },
    {
      "cell_type": "markdown",
      "metadata": {
        "id": "sx1QTfNrG3Hq"
      },
      "source": [
        "### Solución 1 - Calculando el intervalo de confianza para la media"
      ]
    },
    {
      "cell_type": "code",
      "metadata": {
        "id": "NlJCcPZnG3Hq"
      },
      "source": [],
      "execution_count": null,
      "outputs": []
    },
    {
      "cell_type": "markdown",
      "metadata": {
        "id": "DkFJL7fcG3Ht"
      },
      "source": [
        "### Solución 2 - Calculando el intervalo de confianza para la media"
      ]
    },
    {
      "cell_type": "code",
      "metadata": {
        "id": "U92vSYMkG3Hu"
      },
      "source": [],
      "execution_count": null,
      "outputs": []
    },
    {
      "cell_type": "markdown",
      "metadata": {
        "id": "aF9jAC6yG3Gl"
      },
      "source": [
        "# <font color=green>5 CÁLCULO DEL TAMAÑO DE LA MUESTRA</font>\n",
        "***"
      ]
    },
    {
      "cell_type": "markdown",
      "metadata": {
        "id": "BwiygaNqnjrr"
      },
      "source": [
        "## <font color='red'>Problema </font>"
      ]
    },
    {
      "cell_type": "markdown",
      "metadata": {
        "id": "a7RjjVVUnlI3"
      },
      "source": [
        "Estamos estudiando los ingresos mensuales de los jefes de hogar con ingresos de hasta R$\\$$ 5.000,00 en Brasil. Nuestro supervisor determinó que el **error máximo en relación a la media es de R$\\$$ 10,00**. Sabemos que la **desviación estándar poblacional** de este grupo de trabajadores es **R$\\$$ 1.082,79**. Para un **nivel de confianza del 95%**, ¿cuál debería ser el tamaño de la muestra de nuestro estudio?"
      ]
    },
    {
      "cell_type": "markdown",
      "metadata": {
        "id": "za2sGJt6G3Gm"
      },
      "source": [
        "## <font color=green>5.1 Variables cuantitativas y población infinita</font>\n",
        "***"
      ]
    },
    {
      "cell_type": "markdown",
      "metadata": {
        "id": "3wqMjJWR5sVq"
      },
      "source": [
        "# $$e = z \\frac{\\sigma}{\\sqrt{n}}$$"
      ]
    },
    {
      "cell_type": "markdown",
      "metadata": {
        "id": "X1AxpKtIG3Gn"
      },
      "source": [
        "#### Con desviación estándar conocida\n",
        "\n",
        "## $$n = \\left(z\\frac{\\sigma}{e}\\right)^2$$\n",
        "\n",
        "#### Con desviación estándar desconocida\n",
        "\n",
        "## $$n = \\left(z\\frac{s}{e}\\right)^2$$\n",
        "\n",
        "Donde:\n",
        "\n",
        "$z$ = variable normal estandarizada\n",
        "\n",
        "$\\sigma$ = desviación estándar poblacional\n",
        "\n",
        "$s$ = desviación estándar de la muestra\n",
        "\n",
        "$e$ = error inferencial"
      ]
    },
    {
      "cell_type": "markdown",
      "metadata": {
        "id": "T0fysCyDG3Gn"
      },
      "source": [
        "### <font color='red'>Comentarios</font>\n",
        "\n",
        "1. La desviación estándar ($\\sigma$ o $s$) y el error ($e$) deben estar en la misma unidad de medida.\n",
        "\n",
        "2. Cuando el error ($e$) se representa en términos porcentuales, debe interpretarse como un porcentaje relacionado con el promedio."
      ]
    },
    {
      "cell_type": "markdown",
      "metadata": {
        "id": "WHYBTaupG3Gn"
      },
      "source": [
        "## <font color='blue'>Ejemplo: Rendimiento medio</font>"
      ]
    },
    {
      "cell_type": "markdown",
      "metadata": {
        "id": "dcdzo7EgG3Go"
      },
      "source": [
        "Estamos estudiando los ingresos mensuales de los jefes de hogar. Nuestro supervisor determinó que el **error máximo en relación a la media es de $\\$$ 100,00** pesos. Sabemos que la **desviación estándar poblacional** de este grupo de trabajadores es **$\\$$ 3.323,39** pesos. Para un **nivel de confianza del 95%**, ¿cuál debería ser el tamaño de la muestra de nuestro estudio?"
      ]
    },
    {
      "cell_type": "code",
      "metadata": {
        "id": "XtJ5I_kaKDN3"
      },
      "source": [],
      "execution_count": null,
      "outputs": []
    },
    {
      "cell_type": "code",
      "metadata": {
        "id": "-4TLCgNLKC95"
      },
      "source": [],
      "execution_count": null,
      "outputs": []
    },
    {
      "cell_type": "code",
      "metadata": {
        "id": "7XDT12I4ViYN"
      },
      "source": [],
      "execution_count": null,
      "outputs": []
    },
    {
      "cell_type": "markdown",
      "metadata": {
        "id": "6uCkW4KlG3Gr"
      },
      "source": [
        "### Obteniendo $\\sigma$"
      ]
    },
    {
      "cell_type": "code",
      "metadata": {
        "id": "1RmtZfj-G3Gr"
      },
      "source": [],
      "execution_count": null,
      "outputs": []
    },
    {
      "cell_type": "markdown",
      "metadata": {
        "id": "Cl39PIZ2G3Gt"
      },
      "source": [
        "### Obteniendo $e$"
      ]
    },
    {
      "cell_type": "code",
      "metadata": {
        "id": "NTRMt2gWG3Gt"
      },
      "source": [],
      "execution_count": null,
      "outputs": []
    },
    {
      "cell_type": "markdown",
      "metadata": {
        "id": "OlAX3Gj6G3Gv"
      },
      "source": [
        "### Obteniendo $n$"
      ]
    },
    {
      "cell_type": "code",
      "metadata": {
        "id": "0MjluwHPG3Gv",
        "scrolled": true
      },
      "source": [],
      "execution_count": null,
      "outputs": []
    },
    {
      "cell_type": "markdown",
      "metadata": {
        "id": "MjP0xsqyTyNO"
      },
      "source": [
        "---\n",
        "---"
      ]
    },
    {
      "cell_type": "markdown",
      "metadata": {
        "id": "dx2vyLC-TyNP"
      },
      "source": [
        "## <font color='red'>Problema</font>"
      ]
    },
    {
      "cell_type": "markdown",
      "metadata": {
        "id": "uzK2fAOFTyNP"
      },
      "source": [
        "En un lote de **10 000 latas** de gaseosa, se realizó una muestra aleatoria simple de **100 latas** y se obtuvo que la **desviación estándar muestral del contenido de las latas es igual a 12 ml**. El fabricante estipula un **error máximo en la media poblacional de solo 5 ml**. Para garantizar un **nivel de confianza del 95%**, ¿qué tamaño de muestra se debe seleccionar para este estudio?"
      ]
    },
    {
      "cell_type": "markdown",
      "metadata": {
        "id": "FlAz5kycTyNQ"
      },
      "source": [
        "## <font color=green>5.2 Variables cuantitativas y población finita</font>\n",
        "***"
      ]
    },
    {
      "cell_type": "markdown",
      "metadata": {
        "id": "UOe02McSTyNR"
      },
      "source": [
        "#### Con desviación estándar conocida\n",
        "\n",
        "## $$n = \\frac{z^2 \\sigma^2 N}{z^2 \\sigma^2 + e^2(N-1)}$$\n",
        "\n",
        "#### Con desviación estándar desconocida\n",
        "\n",
        "## $$n = \\frac{z^2 s^2 N}{z^2 s^2 + e^2(N-1)}$$\n",
        "\n",
        "Donde:\n",
        "\n",
        "$N$ = tamaño de la población\n",
        "\n",
        "$z$ = variable normal estandarizada\n",
        "\n",
        "$\\sigma$ = desviación estándar poblacional\n",
        "\n",
        "$s$ = desviación estándar muestral\n",
        "\n",
        "$e$ = error inferencial"
      ]
    },
    {
      "cell_type": "markdown",
      "metadata": {
        "id": "cUELtYTKTyNS"
      },
      "source": [
        "## <font color='blue'>Ejemplo: Industria de refrescos</font>"
      ]
    },
    {
      "cell_type": "markdown",
      "metadata": {
        "id": "upv1mM7fTyNS"
      },
      "source": [
        "En un lote de **10 000 latas** de gaseosa, se realizó una muestra aleatoria simple de **100 latas** y se obtuvo que la **desviación estándar muestral del contenido de las latas es igual a 12 ml**. El fabricante estipula un **error máximo en la media poblacional de solo 5 ml**. Para garantizar un **nivel de confianza del 95%**, ¿qué tamaño de muestra se debe seleccionar para este estudio?"
      ]
    },
    {
      "cell_type": "markdown",
      "metadata": {
        "id": "_y3-3VIBTyNS"
      },
      "source": [
        "### Obteniendo $N$"
      ]
    },
    {
      "cell_type": "code",
      "metadata": {
        "id": "gXWn9zTETyNS"
      },
      "source": [],
      "execution_count": null,
      "outputs": []
    },
    {
      "cell_type": "markdown",
      "metadata": {
        "id": "xCgZ1JSjTyNT"
      },
      "source": [
        "### Obteniendo $z$"
      ]
    },
    {
      "cell_type": "code",
      "metadata": {
        "id": "ZUs9aYJRTyNT"
      },
      "source": [],
      "execution_count": null,
      "outputs": []
    },
    {
      "cell_type": "markdown",
      "metadata": {
        "id": "KCnigJd8TyNU"
      },
      "source": [
        "### Obteniendo $s$"
      ]
    },
    {
      "cell_type": "code",
      "metadata": {
        "id": "fKqFI_TZTyNU"
      },
      "source": [],
      "execution_count": null,
      "outputs": []
    },
    {
      "cell_type": "markdown",
      "metadata": {
        "id": "K9gDEIUdTyNX"
      },
      "source": [
        "### Obteniendo $e$"
      ]
    },
    {
      "cell_type": "code",
      "metadata": {
        "id": "hyhJ3MQKTyNX"
      },
      "source": [],
      "execution_count": null,
      "outputs": []
    },
    {
      "cell_type": "markdown",
      "metadata": {
        "id": "Dsm3bg9gTyNX"
      },
      "source": [
        "### Obteniendo $n$\n",
        "\n",
        "## $$n = \\frac{z^2 s^2 N}{z^2 s^2 + e^2(N-1)}$$"
      ]
    },
    {
      "cell_type": "code",
      "metadata": {
        "id": "0XxWfaPdTyNY",
        "scrolled": true
      },
      "source": [],
      "execution_count": null,
      "outputs": []
    },
    {
      "cell_type": "markdown",
      "metadata": {
        "id": "XNH7CMglG3Hv"
      },
      "source": [
        "# <font color=green>6 FIJANDO EL CONTENIDO</font>\n",
        "***"
      ]
    },
    {
      "cell_type": "markdown",
      "metadata": {
        "id": "iRYqVAxuG3Hv"
      },
      "source": [
        "## <font color='blue'>Ejemplo: Rendimiento medio</font>"
      ]
    },
    {
      "cell_type": "markdown",
      "metadata": {
        "id": "ggloHI5sG3Hw"
      },
      "source": [
        "Estamos estudiando **los ingresos mensuales de los jefes de hogar con ingresos de hasta R$\\$$ 5.000,00 en Brasil**. Nuestro supervisor determinó que el **error máximo en relación a la media es de R$\\$$ 10,00**. Sabemos que la **desviación estándar poblacional** de este grupo de trabajadores es **R$\\$$ 1.082,79** y que la **media poblacional** es **R$\\$$ 1.426,54**. Para un **nivel de confianza del 95%**, ¿cuál debería ser el tamaño de la muestra de nuestro estudio? ¿Cuál es el intervalo de confianza para la media considerando el tamaño de muestra obtenido?"
      ]
    },
    {
      "cell_type": "markdown",
      "metadata": {
        "id": "JZDvLD-NG3Hw"
      },
      "source": [
        "### Construyendo el conjunto de datos según lo especificado por el problema"
      ]
    },
    {
      "cell_type": "code",
      "metadata": {
        "id": "qlnYQeaKG3Hw"
      },
      "source": [],
      "execution_count": null,
      "outputs": []
    },
    {
      "cell_type": "code",
      "metadata": {
        "id": "VKuxbygIG3Hy"
      },
      "source": [],
      "execution_count": null,
      "outputs": []
    },
    {
      "cell_type": "code",
      "metadata": {
        "id": "Q2Ku3mVPG3Hz"
      },
      "source": [],
      "execution_count": null,
      "outputs": []
    },
    {
      "cell_type": "markdown",
      "metadata": {
        "id": "F33TdkXdG3H2"
      },
      "source": [
        "### Calcular el tamaño de la muestra"
      ]
    },
    {
      "cell_type": "code",
      "metadata": {
        "id": "sWIvnmygG3H2"
      },
      "source": [],
      "execution_count": null,
      "outputs": []
    },
    {
      "cell_type": "markdown",
      "metadata": {
        "id": "xRN_gmmLG3H6"
      },
      "source": [
        "### Calcular el intervalo de confianza para la media"
      ]
    },
    {
      "cell_type": "code",
      "metadata": {
        "id": "HoG6JKxxG3H6"
      },
      "source": [],
      "execution_count": null,
      "outputs": []
    },
    {
      "cell_type": "markdown",
      "metadata": {
        "id": "xWAG8q8oG3H8"
      },
      "source": [
        "### Realización de una prueba gráfica"
      ]
    },
    {
      "cell_type": "code",
      "metadata": {
        "colab": {
          "background_save": true
        },
        "id": "pxjJyWnNG3H8"
      },
      "source": [],
      "execution_count": null,
      "outputs": []
    },
    {
      "cell_type": "code",
      "metadata": {
        "id": "ufRZ7TLwjKo"
      },
      "source": [],
      "execution_count": null,
      "outputs": []
    }
  ]
}